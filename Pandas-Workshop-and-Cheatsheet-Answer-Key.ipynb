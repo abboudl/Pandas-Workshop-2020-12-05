{
 "cells": [
  {
   "cell_type": "raw",
   "metadata": {},
   "source": [
    "#\n",
    "#     _____ _____ _____               _                  ______                         _                                     \n",
    "#    |_   _/  ___/  ___|             (_)                 | ___ \\                       | |      _                             \n",
    "#      | | \\ `--.\\ `--.  ___  ___ ___ _  ___  _ __  ___  | |_/ / __ ___  ___  ___ _ __ | |_ ___(_)                            \n",
    "#      | |  `--. \\`--. \\/ _ \\/ __/ __| |/ _ \\| '_ \\/ __| |  __/ '__/ _ \\/ __|/ _ \\ '_ \\| __/ __|                              \n",
    "#     _| |_/\\__/ /\\__/ /  __/\\__ \\__ \\ | (_) | | | \\__ \\ | |  | | |  __/\\__ \\  __/ | | | |_\\__ \\_                             \n",
    "#     \\___/\\____/\\____/ \\___||___/___/_|\\___/|_| |_|___/ \\_|  |_|  \\___||___/\\___|_| |_|\\__|___(_)                            \n",
    "#                                                                                                                             \n",
    "#                                                                                                                             \n",
    "#      ___          _____      _                 _            _   _               _____      ______               _           \n",
    "#     / _ \\        |_   _|    | |               | |          | | (_)             |_   _|     | ___ \\             | |          \n",
    "#    / /_\\ \\_ __     | | _ __ | |_ _ __ ___   __| |_   _  ___| |_ _  ___  _ __     | | ___   | |_/ /_ _ _ __   __| | __ _ ___ \n",
    "#    |  _  | '_ \\    | || '_ \\| __| '__/ _ \\ / _` | | | |/ __| __| |/ _ \\| '_ \\    | |/ _ \\  |  __/ _` | '_ \\ / _` |/ _` / __|\n",
    "#    | | | | | | |  _| || | | | |_| | | (_) | (_| | |_| | (__| |_| | (_) | | | |   | | (_) | | | | (_| | | | | (_| | (_| \\__ \\\n",
    "#    \\_| |_/_| |_|  \\___/_| |_|\\__|_|  \\___/ \\__,_|\\__,_|\\___|\\__|_|\\___/|_| |_|   \\_/\\___/  \\_|  \\__,_|_| |_|\\__,_|\\__,_|___/\n",
    "#                                                                                                                             \n",
    "#                         By: Louai Abboud & The ISSessions Executive Team                                                              \n",
    "#\n",
    "                                                                                                                                                                  "
   ]
  },
  {
   "cell_type": "markdown",
   "metadata": {},
   "source": [
    "## **Introduction: Who are We**"
   ]
  },
  {
   "cell_type": "markdown",
   "metadata": {},
   "source": [
    "-----------------------\n",
    "### Workshop Lead: Louai Abboud\n",
    "- Former ISSessions President\n",
    "- Current ISSessions Vice President\n",
    "- 3rd Year Student @ Sheridan\n",
    "- Threat Hunting Internship @ Bell Canada\n",
    "- C3X Organizer\n",
    "- Security Interests: Threat Hunting, Detection Engineering, Data Analysis, Pandas/Jupyter Notebooks\n",
    "- Interests: Reading (Forgotten Realms Universe, Dune, Old Classics), Dancing, Netflix, Being around People \n",
    "\n",
    "### Workshop Assistants: \n",
    "- Kurt Kousbek, President\n",
    "- Nashad Hakim, Treasurer\n",
    "- Cem Celen, Community Manager\n",
    "- Yusef Islaih, Webmaster \n",
    "-------------------------"
   ]
  },
  {
   "cell_type": "markdown",
   "metadata": {},
   "source": [
    "## **Agenda**\n",
    "----------------\n",
    "1. Why Pandas?\n",
    "2. Tool Tour: Docker + Jupyter Lab\n",
    "3. Prerequisite: Python Crash Course\n",
    "4. Part 1: Pandas Theory\n",
    "5. Part 2: Basic Pandas Operations\n",
    "6. Part 3: Data Modification, Filtering, and Aggregation\n",
    "7. Part 4: Data Correlation\n",
    "8. Bonus: Analyzing Known Malware URLs using URLHAUS Dataset\n",
    "-----------------"
   ]
  },
  {
   "cell_type": "markdown",
   "metadata": {},
   "source": [
    "## **Introduction: Why Pandas?**\n",
    "---------------------------------"
   ]
  },
  {
   "cell_type": "markdown",
   "metadata": {},
   "source": [
    "- Pandas is a Python Data Analytics Library (like PySpark)\n",
    "- It simplies the data analysis process by providing a simple interface by which a Data Analyst can:\n",
    "    - Clean (Often Messy!) Data\n",
    "    - Filter on (Lots & Lots of) Data\n",
    "    - Aggregate on Data -> Statistics! Statistics! Statistics!\n",
    "    - Correlate Data -> Intelligence = Data Correlation + Contextualization\n",
    "    - Visualize Data -> A picture is worth a million words!\n",
    "    - Produce Reports -> Management luv dem reports!!! <3\n",
    "- Why Pandas for Security? \n",
    "    - Cybersecurity is an exercise in data collection, filtering, enrichment, correlation, contextualization, and communication.   \n",
    "    - Security is all about making the right decisions at the right time. Ex: An alert \n",
    "        - Right Decisions -> Require Actionable Intelligence\n",
    "        - Right Time -> Require Aggressive Automation\n",
    "---------------------------------"
   ]
  },
  {
   "cell_type": "markdown",
   "metadata": {},
   "source": [
    "## **Where is Pandas Used in Security?**\n",
    "---------------------------------------\n",
    "- **Threat Detection**: Pandas can help us correlate malicious indicators (look at the work of Cyberwardog and Cyberpanda). Malicious indicators are often spread out across Email Logs, Host Logs, IDPS Logs, Packet Captures, Proxy Logs, AV Logs. By itself, a single malicious indicator does not give us a lot of information. Pandas can help us correlate by:\n",
    "    - Host\n",
    "    - User\n",
    "    - Process\n",
    "    - IP\n",
    "- **Incident Response**: Pandas can help us cut the time from initial breach to incident remediation. I know that I've been breached. What information do I need to collect in the next hour? What are the first 8-10 questions I would ask? Can I automate the collection and reporting of that information?\n",
    "- **Threat Intelligence**: Pandas helps us contextualize log data with information from internal and external APIs and services. A ton of data is publicly available over hundreds if not thousands of public APIs (VirusTotal, IPVoid, DomainTools, PhishTank, OpenPhish, Crowdstrike etc.). Large organizations often have internal APIs to assist IT staff with automation. For example:\n",
    "    - enrich username information with business unit, job title, etc.\n",
    "    - enrich hostnames with application information\n",
    "    - enrich IP/domain information with geolocation, registration date, blacklist information \n",
    "- **Machine Learning**: \n",
    "- **Adhoc Automation, Data Analysis, and Reporting**: Pandas can help you answer adhoc questions that may come up. Which of my servers are not sending logs? How many people clicked the link? Which advanced persistent threats often target clothing and fashion industry based on threat intelligence feeds?\n",
    "-----------------------------------------"
   ]
  },
  {
   "cell_type": "markdown",
   "metadata": {},
   "source": [
    "## **Other Reasons for Learning Pandas**\n",
    "-----------------------------------------\n",
    "- Who doesn't love pandas? ;)\n",
    "- Automation and Programming skills are IN - crazy shortage in our industry!\n",
    "- Fun <- able to answer ANY question based on existing data <-- IT'S A SUPERPOWER\n",
    "-----------------------------------------"
   ]
  },
  {
   "cell_type": "markdown",
   "metadata": {},
   "source": [
    "## **Tools: Docker**\n",
    "-------------------------"
   ]
  },
  {
   "cell_type": "markdown",
   "metadata": {},
   "source": [
    "- Containerization Technology: provide process, filesystem, network isolation\n",
    "- Much lighter than VMs: 1) contain only processes, services, and files you bake into them; 2) no hardware virtualization.\n",
    "- Great for prototyping, development, and testing. I didn't set up a JupyterLab server, I spun up a pre-built JupyterLab container.\n",
    "- Almost Zero Cleanup: When you yeet the container is destroyed, you yeet everything in it.\n",
    "    \n",
    "**After Workshop Cleanup**: \n",
    "1. Open the Windows Command Prompt\n",
    "2. docker container ls \n",
    "3. docker container stop \\<container_id\\>\n",
    "4. docker container rm \\<container_id\\>\n",
    "------------------"
   ]
  },
  {
   "cell_type": "markdown",
   "metadata": {},
   "source": [
    "## **Tools: JupyterLab Demo**\n",
    "----------------------------"
   ]
  },
  {
   "cell_type": "markdown",
   "metadata": {},
   "source": [
    "1. How to Run a Cell?\n",
    "2. How to Restart the Kernel and Clear all Outputs?\n",
    "-----------------------------"
   ]
  },
  {
   "cell_type": "markdown",
   "metadata": {},
   "source": [
    "## **Prerequisite: Python Crash Course**"
   ]
  },
  {
   "cell_type": "markdown",
   "metadata": {},
   "source": [
    "### Variable Declaration"
   ]
  },
  {
   "cell_type": "code",
   "execution_count": 1,
   "metadata": {},
   "outputs": [
    {
     "name": "stdout",
     "output_type": "stream",
     "text": [
      "I am a string\n"
     ]
    }
   ],
   "source": [
    "x = 1 \n",
    "y = 3.14\n",
    "word = \"I am a string\"\n",
    "print(word)"
   ]
  },
  {
   "cell_type": "markdown",
   "metadata": {},
   "source": [
    "### Declaring a List"
   ]
  },
  {
   "cell_type": "code",
   "execution_count": 2,
   "metadata": {},
   "outputs": [
    {
     "data": {
      "text/plain": [
       "[1, 2, 2, 3, 4, 5, 6, 7, 7]"
      ]
     },
     "execution_count": 2,
     "metadata": {},
     "output_type": "execute_result"
    }
   ],
   "source": [
    "a_list = [1, 2, 2, 3, 4, 5, 6 ,7, 7]\n",
    "# empty_list = []\n",
    "a_list"
   ]
  },
  {
   "cell_type": "markdown",
   "metadata": {},
   "source": [
    "### Accessing List Elements"
   ]
  },
  {
   "cell_type": "code",
   "execution_count": 3,
   "metadata": {},
   "outputs": [
    {
     "data": {
      "text/plain": [
       "1"
      ]
     },
     "execution_count": 3,
     "metadata": {},
     "output_type": "execute_result"
    }
   ],
   "source": [
    "a_list = [1, 2, 2, 3, 4, 5, 6 ,7, 7]\n",
    "a_list[0]"
   ]
  },
  {
   "cell_type": "markdown",
   "metadata": {},
   "source": [
    "### Slicing a List "
   ]
  },
  {
   "cell_type": "code",
   "execution_count": 4,
   "metadata": {},
   "outputs": [
    {
     "data": {
      "text/plain": [
       "[5, 6, 7]"
      ]
     },
     "execution_count": 4,
     "metadata": {},
     "output_type": "execute_result"
    }
   ],
   "source": [
    "a_list = [1, 2, 2, 3, 4, 5, 6 ,7, 7]\n",
    "a_list[5:8]"
   ]
  },
  {
   "cell_type": "markdown",
   "metadata": {},
   "source": [
    "### Adding an Element to a List"
   ]
  },
  {
   "cell_type": "code",
   "execution_count": 5,
   "metadata": {},
   "outputs": [
    {
     "data": {
      "text/plain": [
       "[1, 2, 2, 3, 4, 5, 6, 7, 7, 30000000000000]"
      ]
     },
     "execution_count": 5,
     "metadata": {},
     "output_type": "execute_result"
    }
   ],
   "source": [
    "a_list = [1, 2, 2, 3, 4, 5, 6 ,7, 7]\n",
    "a_list.append(30000000000000)\n",
    "a_list"
   ]
  },
  {
   "cell_type": "markdown",
   "metadata": {},
   "source": [
    "### Removing an Element from a List"
   ]
  },
  {
   "cell_type": "code",
   "execution_count": 6,
   "metadata": {},
   "outputs": [
    {
     "data": {
      "text/plain": [
       "[1, 2, 2, 3, 4, 5, 6, 7]"
      ]
     },
     "execution_count": 6,
     "metadata": {},
     "output_type": "execute_result"
    }
   ],
   "source": [
    "a_list = [1, 2, 2, 3, 4, 5, 6 ,7, 7]\n",
    "a_list.remove(7) # Remove by name, Removes first element only\n",
    "# a_list.pop(7) # Remove by index and get the value returned\n",
    "# a_list.clear() # Removes everything in the list, result is an empty list\n",
    "a_list"
   ]
  },
  {
   "cell_type": "markdown",
   "metadata": {},
   "source": [
    "### Getting the Length of a List"
   ]
  },
  {
   "cell_type": "code",
   "execution_count": 7,
   "metadata": {},
   "outputs": [
    {
     "data": {
      "text/plain": [
       "9"
      ]
     },
     "execution_count": 7,
     "metadata": {},
     "output_type": "execute_result"
    }
   ],
   "source": [
    "a_list = [1, 2, 2, 3, 4, 5, 6 ,7, 7]\n",
    "len(a_list)"
   ]
  },
  {
   "cell_type": "markdown",
   "metadata": {},
   "source": [
    "### List Comprehensions"
   ]
  },
  {
   "cell_type": "code",
   "execution_count": 8,
   "metadata": {},
   "outputs": [
    {
     "data": {
      "text/plain": [
       "[3, 3, 5, 3]"
      ]
     },
     "execution_count": 8,
     "metadata": {},
     "output_type": "execute_result"
    }
   ],
   "source": [
    "numbers = [1, 1, 3, 1]\n",
    "numbers_plus_2 = [n + 2 for n in numbers] # Can also add an if ... else ... just before the \"for\"\n",
    "numbers_plus_2"
   ]
  },
  {
   "cell_type": "markdown",
   "metadata": {},
   "source": [
    "### Declaring a Dictionary"
   ]
  },
  {
   "cell_type": "code",
   "execution_count": 9,
   "metadata": {},
   "outputs": [
    {
     "data": {
      "text/plain": [
       "{'Key': 'Value',\n",
       " 1: 'An Integer Key - Yep You can Mix and Match',\n",
       " 'a_list': ['Yep', 'A', 'List', 'Inside', 'A', 'Dictionary']}"
      ]
     },
     "execution_count": 9,
     "metadata": {},
     "output_type": "execute_result"
    }
   ],
   "source": [
    "a_dictionary = {\n",
    "    \"Key\": \"Value\",\n",
    "    1: \"An Integer Key - Yep You can Mix and Match\",\n",
    "    \"a_list\": [\"Yep\", \"A\", \"List\", \"Inside\", \"A\", \"Dictionary\"]\n",
    "}\n",
    "# empty_dictionary = {}\n",
    "a_dictionary"
   ]
  },
  {
   "cell_type": "markdown",
   "metadata": {},
   "source": [
    "### Accessing Dictionary Elements"
   ]
  },
  {
   "cell_type": "code",
   "execution_count": 10,
   "metadata": {},
   "outputs": [
    {
     "data": {
      "text/plain": [
       "'Value'"
      ]
     },
     "execution_count": 10,
     "metadata": {},
     "output_type": "execute_result"
    }
   ],
   "source": [
    "a_dictionary = {\n",
    "    \"Key\": \"Value\",\n",
    "    1: \"An Integer Key - Yep You can Mix and Match\",\n",
    "    \"a_list\": [\"Yep\", \"A\", \"List\", \"Inside\", \"A\", \"Dictionary\"]\n",
    "}\n",
    "a_dictionary[\"Key\"]"
   ]
  },
  {
   "cell_type": "markdown",
   "metadata": {},
   "source": [
    "### Adding a Dictionary Element"
   ]
  },
  {
   "cell_type": "code",
   "execution_count": 11,
   "metadata": {},
   "outputs": [
    {
     "data": {
      "text/plain": [
       "{'Key': 'Value',\n",
       " 1: 'An Integer Key - Yep You can Mix and Match',\n",
       " 'a_list': ['Yep', 'A', 'List', 'Inside', 'A', 'Dictionary'],\n",
       " 'New_Key': 'New_Value'}"
      ]
     },
     "execution_count": 11,
     "metadata": {},
     "output_type": "execute_result"
    }
   ],
   "source": [
    "a_dictionary = {\n",
    "    \"Key\": \"Value\",\n",
    "    1: \"An Integer Key - Yep You can Mix and Match\",\n",
    "    \"a_list\": [\"Yep\", \"A\", \"List\", \"Inside\", \"A\", \"Dictionary\"]\n",
    "}\n",
    "a_dictionary['New_Key'] = \"New_Value\"\n",
    "a_dictionary"
   ]
  },
  {
   "cell_type": "markdown",
   "metadata": {},
   "source": [
    "### Removing a Dictionary Element"
   ]
  },
  {
   "cell_type": "code",
   "execution_count": 12,
   "metadata": {},
   "outputs": [
    {
     "data": {
      "text/plain": [
       "{1: 'An Integer Key - Yep You can Mix and Match',\n",
       " 'a_list': ['Yep', 'A', 'List', 'Inside', 'A', 'Dictionary']}"
      ]
     },
     "execution_count": 12,
     "metadata": {},
     "output_type": "execute_result"
    }
   ],
   "source": [
    "a_dictionary = {\n",
    "    \"Key\": \"Value\",\n",
    "    1: \"An Integer Key - Yep You can Mix and Match\",\n",
    "    \"a_list\": [\"Yep\", \"A\", \"List\", \"Inside\", \"A\", \"Dictionary\"]\n",
    "}\n",
    "del a_dictionary[\"Key\"]\n",
    "a_dictionary"
   ]
  },
  {
   "cell_type": "markdown",
   "metadata": {},
   "source": [
    "### Accessing all Dictionary Keys"
   ]
  },
  {
   "cell_type": "code",
   "execution_count": 13,
   "metadata": {},
   "outputs": [
    {
     "data": {
      "text/plain": [
       "dict_keys(['Key', 1, 'a_list'])"
      ]
     },
     "execution_count": 13,
     "metadata": {},
     "output_type": "execute_result"
    }
   ],
   "source": [
    "a_dictionary = {\n",
    "    \"Key\": \"Value\",\n",
    "    1: \"An Integer Key - Yep You can Mix and Match\",\n",
    "    \"a_list\": [\"Yep\", \"A\", \"List\", \"Inside\", \"A\", \"Dictionary\"]\n",
    "}\n",
    "a_dictionary.keys()"
   ]
  },
  {
   "cell_type": "markdown",
   "metadata": {},
   "source": [
    "### Accessing all Dictionary Values"
   ]
  },
  {
   "cell_type": "code",
   "execution_count": 14,
   "metadata": {},
   "outputs": [
    {
     "data": {
      "text/plain": [
       "dict_values(['Value', 'An Integer Key - Yep You can Mix and Match', ['Yep', 'A', 'List', 'Inside', 'A', 'Dictionary']])"
      ]
     },
     "execution_count": 14,
     "metadata": {},
     "output_type": "execute_result"
    }
   ],
   "source": [
    "a_dictionary = {\n",
    "    \"Key\": \"Value\",\n",
    "    1: \"An Integer Key - Yep You can Mix and Match\",\n",
    "    \"a_list\": [\"Yep\", \"A\", \"List\", \"Inside\", \"A\", \"Dictionary\"]\n",
    "}\n",
    "a_dictionary.values()"
   ]
  },
  {
   "cell_type": "markdown",
   "metadata": {},
   "source": [
    "### If Statements"
   ]
  },
  {
   "cell_type": "code",
   "execution_count": 15,
   "metadata": {},
   "outputs": [
    {
     "name": "stdout",
     "output_type": "stream",
     "text": [
      "IT IS 42\n"
     ]
    }
   ],
   "source": [
    "the_answer_to_the_meaning_of_life = 42\n",
    "if the_answer_to_the_meaning_of_life == 42:\n",
    "    print(\"IT IS 42\")\n",
    "elif the_answer_to_the_meaning_of_life == 12:\n",
    "    print(\"IT IS 12\")\n",
    "else:\n",
    "    print(\"THERE IS NO MEANING TO LIFE.\")"
   ]
  },
  {
   "cell_type": "markdown",
   "metadata": {},
   "source": [
    "### For Loops"
   ]
  },
  {
   "cell_type": "code",
   "execution_count": 16,
   "metadata": {},
   "outputs": [
    {
     "name": "stdout",
     "output_type": "stream",
     "text": [
      "little finger is NOT my favorite character. tyrion lannister is!\n",
      "arya stark is NOT my favorite character. tyrion lannister is!\n",
      "Jon Snow is NOT my favorite character. tyrion lannister is!\n",
      "Ygritte is NOT my favorite character. tyrion lannister is!\n",
      "tyrion lannister is my favorite character!!!!\n"
     ]
    }
   ],
   "source": [
    "GOT_characters = [\"little finger\", \"arya stark\", \"Jon Snow\", \"Ygritte\", \"tyrion lannister\"]\n",
    "my_favorite_character = \"tyrion lannister\"\n",
    "for GOT_character in GOT_characters:\n",
    "    if GOT_character == my_favorite_character:\n",
    "        print(\"{0} is my favorite character!!!!\".format(GOT_character))\n",
    "    else:\n",
    "        print(\"{0} is NOT my favorite character. {1} is!\".format(GOT_character, my_favorite_character))"
   ]
  },
  {
   "cell_type": "markdown",
   "metadata": {},
   "source": [
    "### Common String Operations: Splitting a String into a List of Elements"
   ]
  },
  {
   "cell_type": "code",
   "execution_count": 17,
   "metadata": {},
   "outputs": [
    {
     "data": {
      "text/plain": [
       "['I', 'am', 'about', 'to', 'be', 'split', 'noooooooooooooooo']"
      ]
     },
     "execution_count": 17,
     "metadata": {},
     "output_type": "execute_result"
    }
   ],
   "source": [
    "lets_split_this_baby = \"I am about to be split noooooooooooooooo\"\n",
    "split_into_a_list = lets_split_this_baby.split()\n",
    "split_into_a_list"
   ]
  },
  {
   "cell_type": "markdown",
   "metadata": {},
   "source": [
    "### Common String Operations: Joining a List Into a String"
   ]
  },
  {
   "cell_type": "code",
   "execution_count": 18,
   "metadata": {},
   "outputs": [
    {
     "data": {
      "text/plain": [
       "'I shall be whole again!'"
      ]
     },
     "execution_count": 18,
     "metadata": {},
     "output_type": "execute_result"
    }
   ],
   "source": [
    "split_into_a_list = [\"I\", \"shall\", \"be\", \"whole\", \"again!\"] \n",
    "whole_again = \" \".join(split_into_a_list) \n",
    "whole_again"
   ]
  },
  {
   "cell_type": "markdown",
   "metadata": {},
   "source": [
    "### Common String Operations: Replacing a Word in a String"
   ]
  },
  {
   "cell_type": "code",
   "execution_count": 19,
   "metadata": {},
   "outputs": [
    {
     "data": {
      "text/plain": [
       "'make the fudge dude!'"
      ]
     },
     "execution_count": 19,
     "metadata": {},
     "output_type": "execute_result"
    }
   ],
   "source": [
    "vulgar_language = \"WHAT THE FUCK DUDE!\"\n",
    "better = vulgar_language.replace(\"FUCK\", \"FUDGE\").replace(\"WHAT\", \"MAKE\").lower()\n",
    "better"
   ]
  },
  {
   "cell_type": "markdown",
   "metadata": {},
   "source": [
    "### Common String Operations: Finding a Substring"
   ]
  },
  {
   "cell_type": "code",
   "execution_count": 20,
   "metadata": {},
   "outputs": [
    {
     "name": "stdout",
     "output_type": "stream",
     "text": [
      "True\n"
     ]
    }
   ],
   "source": [
    "sentence = \"The pen is mightier than the sword.\"\n",
    "word = \"sword\"\n",
    "if word in sentence:\n",
    "    print(True)"
   ]
  },
  {
   "cell_type": "markdown",
   "metadata": {},
   "source": [
    "### Other Common String Operations"
   ]
  },
  {
   "cell_type": "code",
   "execution_count": 21,
   "metadata": {},
   "outputs": [
    {
     "data": {
      "text/plain": [
       "'HODOR'"
      ]
     },
     "execution_count": 21,
     "metadata": {},
     "output_type": "execute_result"
    }
   ],
   "source": [
    "\"love conquers all\".endswith(\"all\") # True\n",
    "\"fear is the mind killer\".startswith(\"fear\") # False\n",
    "\"WOOOOW\".lower() # \"woooow\"\n",
    "\"hodor\".upper() # HODOR"
   ]
  },
  {
   "cell_type": "markdown",
   "metadata": {},
   "source": [
    "### Functions"
   ]
  },
  {
   "cell_type": "code",
   "execution_count": 22,
   "metadata": {},
   "outputs": [
    {
     "data": {
      "text/plain": [
       "'Oh how the moon yearns for the sun'"
      ]
     },
     "execution_count": 22,
     "metadata": {},
     "output_type": "execute_result"
    }
   ],
   "source": [
    "def merge_two_strings(stringA, stringB):\n",
    "    return stringA + \" \" + stringB\n",
    "\n",
    "joined_string = merge_two_strings(\"Oh how the moon\", \"yearns for the sun\")\n",
    "joined_string"
   ]
  },
  {
   "cell_type": "markdown",
   "metadata": {},
   "source": [
    "### Checking the Type of an Object"
   ]
  },
  {
   "cell_type": "code",
   "execution_count": 23,
   "metadata": {},
   "outputs": [
    {
     "name": "stdout",
     "output_type": "stream",
     "text": [
      "<class 'int'>\n",
      "<class 'str'>\n",
      "<class 'list'>\n"
     ]
    }
   ],
   "source": [
    "x = 4\n",
    "word = \"haha\"\n",
    "animals = [\"zebra\", \"dog\", \"cat\"]\n",
    "print(type(x))\n",
    "print(type(word))\n",
    "print(type(animals))"
   ]
  },
  {
   "cell_type": "markdown",
   "metadata": {},
   "source": [
    "-------------------------------------------------------------------------------\n",
    "### **Exercise: Write a Function That Counts the Number of Times a Word Ending in \"orrow\" Appears in The Provided Poem**"
   ]
  },
  {
   "cell_type": "code",
   "execution_count": 24,
   "metadata": {},
   "outputs": [
    {
     "data": {
      "text/plain": [
       "4"
      ]
     },
     "execution_count": 24,
     "metadata": {},
     "output_type": "execute_result"
    }
   ],
   "source": [
    "the_raven_opening = \"\"\"\n",
    "Once upon a midnight dreary, while I pondered, weak and weary,\n",
    "Over many a quaint and curious volume of forgotten lore-\n",
    "    While I nodded, nearly napping, suddenly there came a tapping,\n",
    "As of some one gently rapping, rapping at my chamber door.\n",
    "\"'Tis some visitor,\" I muttered, \"tapping at my chamber door-\n",
    "            Only this and nothing more.\"\n",
    "\n",
    "    Ah, distinctly I remember it was in the bleak December;\n",
    "And each separate dying ember wrought its ghost upon the floor.\n",
    "    Eagerly I wished the morrow; vainly I had sought to borrow\n",
    "    From my books surcease of sorrow, sorrow for the lost Lenore-\n",
    "For the rare and radiant maiden whom the angels name Lenore-\n",
    "            Nameless here for evermore.\n",
    "\"\"\"\n",
    "\n",
    "def how_many_orrows(poem):\n",
    "    \n",
    "    punctuation = ',\\\".;-'\n",
    "    for char in poem:\n",
    "        if char in punctuation:\n",
    "            poem = poem.replace(char, \"\")\n",
    "    \n",
    "    word_list = poem.split()\n",
    "    \n",
    "    num_of_words_ending_in_morrow = 0\n",
    "    for word in word_list:\n",
    "        if word.endswith(\"orrow\"):\n",
    "            num_of_words_ending_in_morrow = num_of_words_ending_in_morrow + 1\n",
    "    \n",
    "    return num_of_words_ending_in_morrow\n",
    "    \n",
    "\n",
    "how_many_orrows(the_raven_opening)"
   ]
  },
  {
   "cell_type": "markdown",
   "metadata": {},
   "source": [
    "------------------------------------------------------"
   ]
  },
  {
   "cell_type": "markdown",
   "metadata": {},
   "source": [
    "## **Part #1: Basic Pandas Theory and Terminology**"
   ]
  },
  {
   "cell_type": "markdown",
   "metadata": {},
   "source": [
    "- Dataframe = Table\n",
    "- Series = Column or a Row\n",
    "- Index = Row Labels\n",
    "- NumPy arrays\n",
    "    - what Series are under the hood\n",
    "    - they are implementation of high perfromance arrays and matrices for scientific computing\n",
    "    - stored more efficiently than lists\n",
    "    - allow for vectorized computing as opposed to looping constructs"
   ]
  },
  {
   "cell_type": "markdown",
   "metadata": {},
   "source": [
    "---------------------------------------------"
   ]
  },
  {
   "cell_type": "markdown",
   "metadata": {},
   "source": [
    "## **Part #2: Basic Pandas Operations**"
   ]
  },
  {
   "cell_type": "markdown",
   "metadata": {},
   "source": [
    "### Setup and Imports"
   ]
  },
  {
   "cell_type": "code",
   "execution_count": 25,
   "metadata": {},
   "outputs": [],
   "source": [
    "import pandas as pd\n",
    "import numpy as np"
   ]
  },
  {
   "cell_type": "markdown",
   "metadata": {},
   "source": [
    "### Initializing a Dataframe: Dictionary of Lists"
   ]
  },
  {
   "cell_type": "code",
   "execution_count": 26,
   "metadata": {},
   "outputs": [
    {
     "data": {
      "text/html": [
       "<div>\n",
       "<style scoped>\n",
       "    .dataframe tbody tr th:only-of-type {\n",
       "        vertical-align: middle;\n",
       "    }\n",
       "\n",
       "    .dataframe tbody tr th {\n",
       "        vertical-align: top;\n",
       "    }\n",
       "\n",
       "    .dataframe thead th {\n",
       "        text-align: right;\n",
       "    }\n",
       "</style>\n",
       "<table border=\"1\" class=\"dataframe\">\n",
       "  <thead>\n",
       "    <tr style=\"text-align: right;\">\n",
       "      <th></th>\n",
       "      <th>ids</th>\n",
       "      <th>names</th>\n",
       "      <th>positions</th>\n",
       "      <th>ages</th>\n",
       "      <th>how_cool</th>\n",
       "    </tr>\n",
       "  </thead>\n",
       "  <tbody>\n",
       "    <tr>\n",
       "      <th>0</th>\n",
       "      <td>A</td>\n",
       "      <td>Nash</td>\n",
       "      <td>Treasurer</td>\n",
       "      <td>29</td>\n",
       "      <td>11</td>\n",
       "    </tr>\n",
       "    <tr>\n",
       "      <th>1</th>\n",
       "      <td>B</td>\n",
       "      <td>Kurt</td>\n",
       "      <td>President</td>\n",
       "      <td>26</td>\n",
       "      <td>7</td>\n",
       "    </tr>\n",
       "    <tr>\n",
       "      <th>2</th>\n",
       "      <td>C</td>\n",
       "      <td>Louai</td>\n",
       "      <td>Vice President</td>\n",
       "      <td>25</td>\n",
       "      <td>11</td>\n",
       "    </tr>\n",
       "    <tr>\n",
       "      <th>3</th>\n",
       "      <td>D</td>\n",
       "      <td>Jamie</td>\n",
       "      <td>Events Manager</td>\n",
       "      <td>20</td>\n",
       "      <td>7</td>\n",
       "    </tr>\n",
       "    <tr>\n",
       "      <th>4</th>\n",
       "      <td>E</td>\n",
       "      <td>Yusef</td>\n",
       "      <td>Webmaster</td>\n",
       "      <td>12</td>\n",
       "      <td>3</td>\n",
       "    </tr>\n",
       "    <tr>\n",
       "      <th>5</th>\n",
       "      <td>F</td>\n",
       "      <td>Cem</td>\n",
       "      <td>Community Manager</td>\n",
       "      <td>None</td>\n",
       "      <td>None</td>\n",
       "    </tr>\n",
       "    <tr>\n",
       "      <th>6</th>\n",
       "      <td>A</td>\n",
       "      <td>Nash</td>\n",
       "      <td>Treasurer</td>\n",
       "      <td>29</td>\n",
       "      <td>11</td>\n",
       "    </tr>\n",
       "  </tbody>\n",
       "</table>\n",
       "</div>"
      ],
      "text/plain": [
       "  ids  names          positions  ages how_cool\n",
       "0   A   Nash          Treasurer    29       11\n",
       "1   B   Kurt          President    26        7\n",
       "2   C  Louai     Vice President    25       11\n",
       "3   D  Jamie     Events Manager    20        7\n",
       "4   E  Yusef          Webmaster    12        3\n",
       "5   F    Cem  Community Manager  None     None\n",
       "6   A   Nash          Treasurer    29       11"
      ]
     },
     "execution_count": 26,
     "metadata": {},
     "output_type": "execute_result"
    }
   ],
   "source": [
    "ids = ['A', 'B', 'C', 'D', 'E', 'F', 'A']\n",
    "names = ['Nash', 'Kurt', 'Louai', 'Jamie', 'Yusef', 'Cem', 'Nash']\n",
    "positions = ['Treasurer', 'President', 'Vice President', 'Events Manager', 'Webmaster', 'Community Manager', 'Treasurer']\n",
    "ages = ['29', '26', '25', '20', '12', None, '29']\n",
    "how_cool = ['11', '7', '11', '7', '3', None, '11']\n",
    "\n",
    "data = {\n",
    "    \"ids\": ids,\n",
    "    \"names\": names,\n",
    "    \"positions\": positions,\n",
    "    \"ages\": ages,\n",
    "    \"how_cool\": how_cool\n",
    "}\n",
    "\n",
    "df = pd.DataFrame(data)\n",
    "df"
   ]
  },
  {
   "cell_type": "markdown",
   "metadata": {},
   "source": [
    "### Initializing a Dataframe: List of Dictionaries"
   ]
  },
  {
   "cell_type": "code",
   "execution_count": 27,
   "metadata": {},
   "outputs": [
    {
     "data": {
      "text/html": [
       "<div>\n",
       "<style scoped>\n",
       "    .dataframe tbody tr th:only-of-type {\n",
       "        vertical-align: middle;\n",
       "    }\n",
       "\n",
       "    .dataframe tbody tr th {\n",
       "        vertical-align: top;\n",
       "    }\n",
       "\n",
       "    .dataframe thead th {\n",
       "        text-align: right;\n",
       "    }\n",
       "</style>\n",
       "<table border=\"1\" class=\"dataframe\">\n",
       "  <thead>\n",
       "    <tr style=\"text-align: right;\">\n",
       "      <th></th>\n",
       "      <th>ids</th>\n",
       "      <th>names</th>\n",
       "      <th>positions</th>\n",
       "      <th>ages</th>\n",
       "      <th>how_cool</th>\n",
       "    </tr>\n",
       "  </thead>\n",
       "  <tbody>\n",
       "    <tr>\n",
       "      <th>0</th>\n",
       "      <td>A</td>\n",
       "      <td>Nash</td>\n",
       "      <td>Treasurer</td>\n",
       "      <td>29</td>\n",
       "      <td>11</td>\n",
       "    </tr>\n",
       "    <tr>\n",
       "      <th>1</th>\n",
       "      <td>A</td>\n",
       "      <td>Nash</td>\n",
       "      <td>Treasurer</td>\n",
       "      <td>29</td>\n",
       "      <td>11</td>\n",
       "    </tr>\n",
       "    <tr>\n",
       "      <th>2</th>\n",
       "      <td>B</td>\n",
       "      <td>Kurt</td>\n",
       "      <td>President</td>\n",
       "      <td>26</td>\n",
       "      <td>7</td>\n",
       "    </tr>\n",
       "    <tr>\n",
       "      <th>3</th>\n",
       "      <td>C</td>\n",
       "      <td>Louai</td>\n",
       "      <td>Vice President</td>\n",
       "      <td>25</td>\n",
       "      <td>11</td>\n",
       "    </tr>\n",
       "    <tr>\n",
       "      <th>4</th>\n",
       "      <td>D</td>\n",
       "      <td>Jamie</td>\n",
       "      <td>Events Manager</td>\n",
       "      <td>20</td>\n",
       "      <td>7</td>\n",
       "    </tr>\n",
       "    <tr>\n",
       "      <th>5</th>\n",
       "      <td>E</td>\n",
       "      <td>Yusef</td>\n",
       "      <td>Webmaster</td>\n",
       "      <td>12</td>\n",
       "      <td>3</td>\n",
       "    </tr>\n",
       "    <tr>\n",
       "      <th>6</th>\n",
       "      <td>F</td>\n",
       "      <td>Cem</td>\n",
       "      <td>Community Manager</td>\n",
       "      <td>None</td>\n",
       "      <td>None</td>\n",
       "    </tr>\n",
       "  </tbody>\n",
       "</table>\n",
       "</div>"
      ],
      "text/plain": [
       "  ids  names          positions  ages how_cool\n",
       "0   A   Nash          Treasurer    29       11\n",
       "1   A   Nash          Treasurer    29       11\n",
       "2   B   Kurt          President    26        7\n",
       "3   C  Louai     Vice President    25       11\n",
       "4   D  Jamie     Events Manager    20        7\n",
       "5   E  Yusef          Webmaster    12        3\n",
       "6   F    Cem  Community Manager  None     None"
      ]
     },
     "execution_count": 27,
     "metadata": {},
     "output_type": "execute_result"
    }
   ],
   "source": [
    "data = [\n",
    "    {\"ids\": \"A\", \"names\": \"Nash\", \"positions\": \"Treasurer\", \"ages\": \"29\", \"how_cool\": \"11\"},\n",
    "    {\"ids\": \"A\", \"names\": \"Nash\", \"positions\": \"Treasurer\", \"ages\": \"29\", \"how_cool\": \"11\"}, \n",
    "    {\"ids\": \"B\", \"names\": \"Kurt\", \"positions\": \"President\", \"ages\": \"26\", \"how_cool\": \"7\"}, \n",
    "    {\"ids\": \"C\", \"names\": \"Louai\", \"positions\": \"Vice President\", \"ages\": \"25\", \"how_cool\": \"11\"}, \n",
    "    {\"ids\": \"D\", \"names\": \"Jamie\", \"positions\": \"Events Manager\", \"ages\": \"20\", \"how_cool\": \"7\"}, \n",
    "    {\"ids\": \"E\", \"names\": \"Yusef\", \"positions\": \"Webmaster\", \"ages\": \"12\", \"how_cool\": \"3\"}, \n",
    "    {\"ids\": \"F\", \"names\": \"Cem\", \"positions\": \"Community Manager\", \"ages\": None, \"how_cool\": None}\n",
    "]\n",
    "\n",
    "df = pd.DataFrame(data)\n",
    "df"
   ]
  },
  {
   "cell_type": "markdown",
   "metadata": {},
   "source": [
    "### Selecting a Row"
   ]
  },
  {
   "cell_type": "code",
   "execution_count": 28,
   "metadata": {},
   "outputs": [
    {
     "data": {
      "text/html": [
       "<div>\n",
       "<style scoped>\n",
       "    .dataframe tbody tr th:only-of-type {\n",
       "        vertical-align: middle;\n",
       "    }\n",
       "\n",
       "    .dataframe tbody tr th {\n",
       "        vertical-align: top;\n",
       "    }\n",
       "\n",
       "    .dataframe thead th {\n",
       "        text-align: right;\n",
       "    }\n",
       "</style>\n",
       "<table border=\"1\" class=\"dataframe\">\n",
       "  <thead>\n",
       "    <tr style=\"text-align: right;\">\n",
       "      <th></th>\n",
       "      <th>ids</th>\n",
       "      <th>names</th>\n",
       "      <th>positions</th>\n",
       "      <th>ages</th>\n",
       "      <th>how_cool</th>\n",
       "    </tr>\n",
       "  </thead>\n",
       "  <tbody>\n",
       "    <tr>\n",
       "      <th>0</th>\n",
       "      <td>A</td>\n",
       "      <td>Nash</td>\n",
       "      <td>Treasurer</td>\n",
       "      <td>29</td>\n",
       "      <td>11</td>\n",
       "    </tr>\n",
       "    <tr>\n",
       "      <th>1</th>\n",
       "      <td>A</td>\n",
       "      <td>Nash</td>\n",
       "      <td>Treasurer</td>\n",
       "      <td>29</td>\n",
       "      <td>11</td>\n",
       "    </tr>\n",
       "    <tr>\n",
       "      <th>2</th>\n",
       "      <td>B</td>\n",
       "      <td>Kurt</td>\n",
       "      <td>President</td>\n",
       "      <td>26</td>\n",
       "      <td>7</td>\n",
       "    </tr>\n",
       "  </tbody>\n",
       "</table>\n",
       "</div>"
      ],
      "text/plain": [
       "  ids names  positions ages how_cool\n",
       "0   A  Nash  Treasurer   29       11\n",
       "1   A  Nash  Treasurer   29       11\n",
       "2   B  Kurt  President   26        7"
      ]
     },
     "execution_count": 28,
     "metadata": {},
     "output_type": "execute_result"
    }
   ],
   "source": [
    "first_three_rows_df = df.iloc[0:3]\n",
    "first_three_rows_df"
   ]
  },
  {
   "cell_type": "markdown",
   "metadata": {},
   "source": [
    "### Selecting a Column (As a DataFrame)"
   ]
  },
  {
   "cell_type": "code",
   "execution_count": 29,
   "metadata": {},
   "outputs": [
    {
     "data": {
      "text/html": [
       "<div>\n",
       "<style scoped>\n",
       "    .dataframe tbody tr th:only-of-type {\n",
       "        vertical-align: middle;\n",
       "    }\n",
       "\n",
       "    .dataframe tbody tr th {\n",
       "        vertical-align: top;\n",
       "    }\n",
       "\n",
       "    .dataframe thead th {\n",
       "        text-align: right;\n",
       "    }\n",
       "</style>\n",
       "<table border=\"1\" class=\"dataframe\">\n",
       "  <thead>\n",
       "    <tr style=\"text-align: right;\">\n",
       "      <th></th>\n",
       "      <th>names</th>\n",
       "      <th>positions</th>\n",
       "    </tr>\n",
       "  </thead>\n",
       "  <tbody>\n",
       "    <tr>\n",
       "      <th>0</th>\n",
       "      <td>Nash</td>\n",
       "      <td>Treasurer</td>\n",
       "    </tr>\n",
       "    <tr>\n",
       "      <th>1</th>\n",
       "      <td>Nash</td>\n",
       "      <td>Treasurer</td>\n",
       "    </tr>\n",
       "    <tr>\n",
       "      <th>2</th>\n",
       "      <td>Kurt</td>\n",
       "      <td>President</td>\n",
       "    </tr>\n",
       "    <tr>\n",
       "      <th>3</th>\n",
       "      <td>Louai</td>\n",
       "      <td>Vice President</td>\n",
       "    </tr>\n",
       "    <tr>\n",
       "      <th>4</th>\n",
       "      <td>Jamie</td>\n",
       "      <td>Events Manager</td>\n",
       "    </tr>\n",
       "    <tr>\n",
       "      <th>5</th>\n",
       "      <td>Yusef</td>\n",
       "      <td>Webmaster</td>\n",
       "    </tr>\n",
       "    <tr>\n",
       "      <th>6</th>\n",
       "      <td>Cem</td>\n",
       "      <td>Community Manager</td>\n",
       "    </tr>\n",
       "  </tbody>\n",
       "</table>\n",
       "</div>"
      ],
      "text/plain": [
       "   names          positions\n",
       "0   Nash          Treasurer\n",
       "1   Nash          Treasurer\n",
       "2   Kurt          President\n",
       "3  Louai     Vice President\n",
       "4  Jamie     Events Manager\n",
       "5  Yusef          Webmaster\n",
       "6    Cem  Community Manager"
      ]
     },
     "execution_count": 29,
     "metadata": {},
     "output_type": "execute_result"
    }
   ],
   "source": [
    "column_list = [\"names\", \"positions\"]\n",
    "names_and_positions_df = df[column_list]\n",
    "names_and_positions_df"
   ]
  },
  {
   "cell_type": "markdown",
   "metadata": {},
   "source": [
    "### Selecting a Column (As a Series)"
   ]
  },
  {
   "cell_type": "code",
   "execution_count": 30,
   "metadata": {},
   "outputs": [
    {
     "name": "stdout",
     "output_type": "stream",
     "text": [
      "<class 'pandas.core.series.Series'>\n"
     ]
    },
    {
     "data": {
      "text/plain": [
       "0      11\n",
       "1      11\n",
       "2       7\n",
       "3      11\n",
       "4       7\n",
       "5       3\n",
       "6    None\n",
       "Name: how_cool, dtype: object"
      ]
     },
     "execution_count": 30,
     "metadata": {},
     "output_type": "execute_result"
    }
   ],
   "source": [
    "how_cool_series = df['how_cool']\n",
    "print(type(how_cool_series))\n",
    "how_cool_series"
   ]
  },
  {
   "cell_type": "markdown",
   "metadata": {},
   "source": [
    "### Selecting a Row and a Column"
   ]
  },
  {
   "cell_type": "code",
   "execution_count": 31,
   "metadata": {},
   "outputs": [
    {
     "data": {
      "text/html": [
       "<div>\n",
       "<style scoped>\n",
       "    .dataframe tbody tr th:only-of-type {\n",
       "        vertical-align: middle;\n",
       "    }\n",
       "\n",
       "    .dataframe tbody tr th {\n",
       "        vertical-align: top;\n",
       "    }\n",
       "\n",
       "    .dataframe thead th {\n",
       "        text-align: right;\n",
       "    }\n",
       "</style>\n",
       "<table border=\"1\" class=\"dataframe\">\n",
       "  <thead>\n",
       "    <tr style=\"text-align: right;\">\n",
       "      <th></th>\n",
       "      <th>positions</th>\n",
       "      <th>names</th>\n",
       "    </tr>\n",
       "  </thead>\n",
       "  <tbody>\n",
       "    <tr>\n",
       "      <th>1</th>\n",
       "      <td>Treasurer</td>\n",
       "      <td>Nash</td>\n",
       "    </tr>\n",
       "    <tr>\n",
       "      <th>2</th>\n",
       "      <td>President</td>\n",
       "      <td>Kurt</td>\n",
       "    </tr>\n",
       "    <tr>\n",
       "      <th>3</th>\n",
       "      <td>Vice President</td>\n",
       "      <td>Louai</td>\n",
       "    </tr>\n",
       "  </tbody>\n",
       "</table>\n",
       "</div>"
      ],
      "text/plain": [
       "        positions  names\n",
       "1       Treasurer   Nash\n",
       "2       President   Kurt\n",
       "3  Vice President  Louai"
      ]
     },
     "execution_count": 31,
     "metadata": {},
     "output_type": "execute_result"
    }
   ],
   "source": [
    "df.loc[1:3, [\"positions\", \"names\"]]"
   ]
  },
  {
   "cell_type": "markdown",
   "metadata": {},
   "source": [
    "### Setting the Index"
   ]
  },
  {
   "cell_type": "code",
   "execution_count": 32,
   "metadata": {},
   "outputs": [
    {
     "data": {
      "text/html": [
       "<div>\n",
       "<style scoped>\n",
       "    .dataframe tbody tr th:only-of-type {\n",
       "        vertical-align: middle;\n",
       "    }\n",
       "\n",
       "    .dataframe tbody tr th {\n",
       "        vertical-align: top;\n",
       "    }\n",
       "\n",
       "    .dataframe thead th {\n",
       "        text-align: right;\n",
       "    }\n",
       "</style>\n",
       "<table border=\"1\" class=\"dataframe\">\n",
       "  <thead>\n",
       "    <tr style=\"text-align: right;\">\n",
       "      <th></th>\n",
       "      <th>names</th>\n",
       "      <th>positions</th>\n",
       "      <th>ages</th>\n",
       "      <th>how_cool</th>\n",
       "    </tr>\n",
       "    <tr>\n",
       "      <th>ids</th>\n",
       "      <th></th>\n",
       "      <th></th>\n",
       "      <th></th>\n",
       "      <th></th>\n",
       "    </tr>\n",
       "  </thead>\n",
       "  <tbody>\n",
       "    <tr>\n",
       "      <th>A</th>\n",
       "      <td>Nash</td>\n",
       "      <td>Treasurer</td>\n",
       "      <td>29</td>\n",
       "      <td>11</td>\n",
       "    </tr>\n",
       "    <tr>\n",
       "      <th>A</th>\n",
       "      <td>Nash</td>\n",
       "      <td>Treasurer</td>\n",
       "      <td>29</td>\n",
       "      <td>11</td>\n",
       "    </tr>\n",
       "    <tr>\n",
       "      <th>B</th>\n",
       "      <td>Kurt</td>\n",
       "      <td>President</td>\n",
       "      <td>26</td>\n",
       "      <td>7</td>\n",
       "    </tr>\n",
       "    <tr>\n",
       "      <th>C</th>\n",
       "      <td>Louai</td>\n",
       "      <td>Vice President</td>\n",
       "      <td>25</td>\n",
       "      <td>11</td>\n",
       "    </tr>\n",
       "    <tr>\n",
       "      <th>D</th>\n",
       "      <td>Jamie</td>\n",
       "      <td>Events Manager</td>\n",
       "      <td>20</td>\n",
       "      <td>7</td>\n",
       "    </tr>\n",
       "    <tr>\n",
       "      <th>E</th>\n",
       "      <td>Yusef</td>\n",
       "      <td>Webmaster</td>\n",
       "      <td>12</td>\n",
       "      <td>3</td>\n",
       "    </tr>\n",
       "    <tr>\n",
       "      <th>F</th>\n",
       "      <td>Cem</td>\n",
       "      <td>Community Manager</td>\n",
       "      <td>None</td>\n",
       "      <td>None</td>\n",
       "    </tr>\n",
       "  </tbody>\n",
       "</table>\n",
       "</div>"
      ],
      "text/plain": [
       "     names          positions  ages how_cool\n",
       "ids                                         \n",
       "A     Nash          Treasurer    29       11\n",
       "A     Nash          Treasurer    29       11\n",
       "B     Kurt          President    26        7\n",
       "C    Louai     Vice President    25       11\n",
       "D    Jamie     Events Manager    20        7\n",
       "E    Yusef          Webmaster    12        3\n",
       "F      Cem  Community Manager  None     None"
      ]
     },
     "execution_count": 32,
     "metadata": {},
     "output_type": "execute_result"
    }
   ],
   "source": [
    "df_with_ids_index = df.set_index('ids')\n",
    "df_with_ids_index"
   ]
  },
  {
   "cell_type": "markdown",
   "metadata": {},
   "source": [
    "### Selecting the Index"
   ]
  },
  {
   "cell_type": "code",
   "execution_count": 33,
   "metadata": {},
   "outputs": [
    {
     "data": {
      "text/plain": [
       "Index(['A', 'A', 'B', 'C', 'D', 'E', 'F'], dtype='object', name='ids')"
      ]
     },
     "execution_count": 33,
     "metadata": {},
     "output_type": "execute_result"
    }
   ],
   "source": [
    "df_with_ids_index.index"
   ]
  },
  {
   "cell_type": "markdown",
   "metadata": {},
   "source": [
    "### Resetting the Index"
   ]
  },
  {
   "cell_type": "code",
   "execution_count": 34,
   "metadata": {},
   "outputs": [
    {
     "data": {
      "text/html": [
       "<div>\n",
       "<style scoped>\n",
       "    .dataframe tbody tr th:only-of-type {\n",
       "        vertical-align: middle;\n",
       "    }\n",
       "\n",
       "    .dataframe tbody tr th {\n",
       "        vertical-align: top;\n",
       "    }\n",
       "\n",
       "    .dataframe thead th {\n",
       "        text-align: right;\n",
       "    }\n",
       "</style>\n",
       "<table border=\"1\" class=\"dataframe\">\n",
       "  <thead>\n",
       "    <tr style=\"text-align: right;\">\n",
       "      <th></th>\n",
       "      <th>ids</th>\n",
       "      <th>names</th>\n",
       "      <th>positions</th>\n",
       "      <th>ages</th>\n",
       "      <th>how_cool</th>\n",
       "    </tr>\n",
       "  </thead>\n",
       "  <tbody>\n",
       "    <tr>\n",
       "      <th>0</th>\n",
       "      <td>A</td>\n",
       "      <td>Nash</td>\n",
       "      <td>Treasurer</td>\n",
       "      <td>29</td>\n",
       "      <td>11</td>\n",
       "    </tr>\n",
       "    <tr>\n",
       "      <th>1</th>\n",
       "      <td>A</td>\n",
       "      <td>Nash</td>\n",
       "      <td>Treasurer</td>\n",
       "      <td>29</td>\n",
       "      <td>11</td>\n",
       "    </tr>\n",
       "    <tr>\n",
       "      <th>2</th>\n",
       "      <td>B</td>\n",
       "      <td>Kurt</td>\n",
       "      <td>President</td>\n",
       "      <td>26</td>\n",
       "      <td>7</td>\n",
       "    </tr>\n",
       "    <tr>\n",
       "      <th>3</th>\n",
       "      <td>C</td>\n",
       "      <td>Louai</td>\n",
       "      <td>Vice President</td>\n",
       "      <td>25</td>\n",
       "      <td>11</td>\n",
       "    </tr>\n",
       "    <tr>\n",
       "      <th>4</th>\n",
       "      <td>D</td>\n",
       "      <td>Jamie</td>\n",
       "      <td>Events Manager</td>\n",
       "      <td>20</td>\n",
       "      <td>7</td>\n",
       "    </tr>\n",
       "    <tr>\n",
       "      <th>5</th>\n",
       "      <td>E</td>\n",
       "      <td>Yusef</td>\n",
       "      <td>Webmaster</td>\n",
       "      <td>12</td>\n",
       "      <td>3</td>\n",
       "    </tr>\n",
       "    <tr>\n",
       "      <th>6</th>\n",
       "      <td>F</td>\n",
       "      <td>Cem</td>\n",
       "      <td>Community Manager</td>\n",
       "      <td>None</td>\n",
       "      <td>None</td>\n",
       "    </tr>\n",
       "  </tbody>\n",
       "</table>\n",
       "</div>"
      ],
      "text/plain": [
       "  ids  names          positions  ages how_cool\n",
       "0   A   Nash          Treasurer    29       11\n",
       "1   A   Nash          Treasurer    29       11\n",
       "2   B   Kurt          President    26        7\n",
       "3   C  Louai     Vice President    25       11\n",
       "4   D  Jamie     Events Manager    20        7\n",
       "5   E  Yusef          Webmaster    12        3\n",
       "6   F    Cem  Community Manager  None     None"
      ]
     },
     "execution_count": 34,
     "metadata": {},
     "output_type": "execute_result"
    }
   ],
   "source": [
    "df_with_ids_index.reset_index(drop=False) # If drop = True, we would lose the ids column"
   ]
  },
  {
   "cell_type": "markdown",
   "metadata": {},
   "source": [
    "### Adding a Column"
   ]
  },
  {
   "cell_type": "code",
   "execution_count": 35,
   "metadata": {},
   "outputs": [
    {
     "data": {
      "text/html": [
       "<div>\n",
       "<style scoped>\n",
       "    .dataframe tbody tr th:only-of-type {\n",
       "        vertical-align: middle;\n",
       "    }\n",
       "\n",
       "    .dataframe tbody tr th {\n",
       "        vertical-align: top;\n",
       "    }\n",
       "\n",
       "    .dataframe thead th {\n",
       "        text-align: right;\n",
       "    }\n",
       "</style>\n",
       "<table border=\"1\" class=\"dataframe\">\n",
       "  <thead>\n",
       "    <tr style=\"text-align: right;\">\n",
       "      <th></th>\n",
       "      <th>ids</th>\n",
       "      <th>names</th>\n",
       "      <th>positions</th>\n",
       "      <th>ages</th>\n",
       "      <th>how_cool</th>\n",
       "      <th>Favourite Book</th>\n",
       "    </tr>\n",
       "  </thead>\n",
       "  <tbody>\n",
       "    <tr>\n",
       "      <th>0</th>\n",
       "      <td>A</td>\n",
       "      <td>Nash</td>\n",
       "      <td>Treasurer</td>\n",
       "      <td>29</td>\n",
       "      <td>11</td>\n",
       "      <td>Ella Enchanted</td>\n",
       "    </tr>\n",
       "    <tr>\n",
       "      <th>1</th>\n",
       "      <td>A</td>\n",
       "      <td>Nash</td>\n",
       "      <td>Treasurer</td>\n",
       "      <td>29</td>\n",
       "      <td>11</td>\n",
       "      <td>Ella Enchanted</td>\n",
       "    </tr>\n",
       "    <tr>\n",
       "      <th>2</th>\n",
       "      <td>B</td>\n",
       "      <td>Kurt</td>\n",
       "      <td>President</td>\n",
       "      <td>26</td>\n",
       "      <td>7</td>\n",
       "      <td>Ella Enchanted</td>\n",
       "    </tr>\n",
       "    <tr>\n",
       "      <th>3</th>\n",
       "      <td>C</td>\n",
       "      <td>Louai</td>\n",
       "      <td>Vice President</td>\n",
       "      <td>25</td>\n",
       "      <td>11</td>\n",
       "      <td>Dune</td>\n",
       "    </tr>\n",
       "    <tr>\n",
       "      <th>4</th>\n",
       "      <td>D</td>\n",
       "      <td>Jamie</td>\n",
       "      <td>Events Manager</td>\n",
       "      <td>20</td>\n",
       "      <td>7</td>\n",
       "      <td>Dune</td>\n",
       "    </tr>\n",
       "    <tr>\n",
       "      <th>5</th>\n",
       "      <td>E</td>\n",
       "      <td>Yusef</td>\n",
       "      <td>Webmaster</td>\n",
       "      <td>12</td>\n",
       "      <td>3</td>\n",
       "      <td>Homeland</td>\n",
       "    </tr>\n",
       "    <tr>\n",
       "      <th>6</th>\n",
       "      <td>F</td>\n",
       "      <td>Cem</td>\n",
       "      <td>Community Manager</td>\n",
       "      <td>None</td>\n",
       "      <td>None</td>\n",
       "      <td>Homeland</td>\n",
       "    </tr>\n",
       "  </tbody>\n",
       "</table>\n",
       "</div>"
      ],
      "text/plain": [
       "  ids  names          positions  ages how_cool  Favourite Book\n",
       "0   A   Nash          Treasurer    29       11  Ella Enchanted\n",
       "1   A   Nash          Treasurer    29       11  Ella Enchanted\n",
       "2   B   Kurt          President    26        7  Ella Enchanted\n",
       "3   C  Louai     Vice President    25       11            Dune\n",
       "4   D  Jamie     Events Manager    20        7            Dune\n",
       "5   E  Yusef          Webmaster    12        3        Homeland\n",
       "6   F    Cem  Community Manager  None     None        Homeland"
      ]
     },
     "execution_count": 35,
     "metadata": {},
     "output_type": "execute_result"
    }
   ],
   "source": [
    "df_with_new_column = df\n",
    "df_with_new_column['Favourite Book'] = ['Ella Enchanted', 'Ella Enchanted', 'Ella Enchanted', 'Dune', 'Dune', 'Homeland', 'Homeland']\n",
    "df_with_new_column"
   ]
  },
  {
   "cell_type": "markdown",
   "metadata": {},
   "source": [
    "### Removing a Column"
   ]
  },
  {
   "cell_type": "code",
   "execution_count": 36,
   "metadata": {},
   "outputs": [
    {
     "data": {
      "text/html": [
       "<div>\n",
       "<style scoped>\n",
       "    .dataframe tbody tr th:only-of-type {\n",
       "        vertical-align: middle;\n",
       "    }\n",
       "\n",
       "    .dataframe tbody tr th {\n",
       "        vertical-align: top;\n",
       "    }\n",
       "\n",
       "    .dataframe thead th {\n",
       "        text-align: right;\n",
       "    }\n",
       "</style>\n",
       "<table border=\"1\" class=\"dataframe\">\n",
       "  <thead>\n",
       "    <tr style=\"text-align: right;\">\n",
       "      <th></th>\n",
       "      <th>ids</th>\n",
       "      <th>names</th>\n",
       "      <th>positions</th>\n",
       "      <th>ages</th>\n",
       "      <th>how_cool</th>\n",
       "    </tr>\n",
       "  </thead>\n",
       "  <tbody>\n",
       "    <tr>\n",
       "      <th>0</th>\n",
       "      <td>A</td>\n",
       "      <td>Nash</td>\n",
       "      <td>Treasurer</td>\n",
       "      <td>29</td>\n",
       "      <td>11</td>\n",
       "    </tr>\n",
       "    <tr>\n",
       "      <th>1</th>\n",
       "      <td>A</td>\n",
       "      <td>Nash</td>\n",
       "      <td>Treasurer</td>\n",
       "      <td>29</td>\n",
       "      <td>11</td>\n",
       "    </tr>\n",
       "    <tr>\n",
       "      <th>2</th>\n",
       "      <td>B</td>\n",
       "      <td>Kurt</td>\n",
       "      <td>President</td>\n",
       "      <td>26</td>\n",
       "      <td>7</td>\n",
       "    </tr>\n",
       "    <tr>\n",
       "      <th>3</th>\n",
       "      <td>C</td>\n",
       "      <td>Louai</td>\n",
       "      <td>Vice President</td>\n",
       "      <td>25</td>\n",
       "      <td>11</td>\n",
       "    </tr>\n",
       "    <tr>\n",
       "      <th>4</th>\n",
       "      <td>D</td>\n",
       "      <td>Jamie</td>\n",
       "      <td>Events Manager</td>\n",
       "      <td>20</td>\n",
       "      <td>7</td>\n",
       "    </tr>\n",
       "    <tr>\n",
       "      <th>5</th>\n",
       "      <td>E</td>\n",
       "      <td>Yusef</td>\n",
       "      <td>Webmaster</td>\n",
       "      <td>12</td>\n",
       "      <td>3</td>\n",
       "    </tr>\n",
       "    <tr>\n",
       "      <th>6</th>\n",
       "      <td>F</td>\n",
       "      <td>Cem</td>\n",
       "      <td>Community Manager</td>\n",
       "      <td>None</td>\n",
       "      <td>None</td>\n",
       "    </tr>\n",
       "  </tbody>\n",
       "</table>\n",
       "</div>"
      ],
      "text/plain": [
       "  ids  names          positions  ages how_cool\n",
       "0   A   Nash          Treasurer    29       11\n",
       "1   A   Nash          Treasurer    29       11\n",
       "2   B   Kurt          President    26        7\n",
       "3   C  Louai     Vice President    25       11\n",
       "4   D  Jamie     Events Manager    20        7\n",
       "5   E  Yusef          Webmaster    12        3\n",
       "6   F    Cem  Community Manager  None     None"
      ]
     },
     "execution_count": 36,
     "metadata": {},
     "output_type": "execute_result"
    }
   ],
   "source": [
    "df_with_new_column.drop(['Favourite Book'], axis=1)"
   ]
  },
  {
   "cell_type": "markdown",
   "metadata": {},
   "source": [
    "### Adding a Row"
   ]
  },
  {
   "cell_type": "code",
   "execution_count": 37,
   "metadata": {},
   "outputs": [
    {
     "data": {
      "text/html": [
       "<div>\n",
       "<style scoped>\n",
       "    .dataframe tbody tr th:only-of-type {\n",
       "        vertical-align: middle;\n",
       "    }\n",
       "\n",
       "    .dataframe tbody tr th {\n",
       "        vertical-align: top;\n",
       "    }\n",
       "\n",
       "    .dataframe thead th {\n",
       "        text-align: right;\n",
       "    }\n",
       "</style>\n",
       "<table border=\"1\" class=\"dataframe\">\n",
       "  <thead>\n",
       "    <tr style=\"text-align: right;\">\n",
       "      <th></th>\n",
       "      <th>ids</th>\n",
       "      <th>names</th>\n",
       "      <th>positions</th>\n",
       "      <th>ages</th>\n",
       "      <th>how_cool</th>\n",
       "      <th>Favourite Book</th>\n",
       "    </tr>\n",
       "  </thead>\n",
       "  <tbody>\n",
       "    <tr>\n",
       "      <th>0</th>\n",
       "      <td>A</td>\n",
       "      <td>Nash</td>\n",
       "      <td>Treasurer</td>\n",
       "      <td>29</td>\n",
       "      <td>11</td>\n",
       "      <td>Ella Enchanted</td>\n",
       "    </tr>\n",
       "    <tr>\n",
       "      <th>1</th>\n",
       "      <td>A</td>\n",
       "      <td>Nash</td>\n",
       "      <td>Treasurer</td>\n",
       "      <td>29</td>\n",
       "      <td>11</td>\n",
       "      <td>Ella Enchanted</td>\n",
       "    </tr>\n",
       "    <tr>\n",
       "      <th>2</th>\n",
       "      <td>B</td>\n",
       "      <td>Kurt</td>\n",
       "      <td>President</td>\n",
       "      <td>26</td>\n",
       "      <td>7</td>\n",
       "      <td>Ella Enchanted</td>\n",
       "    </tr>\n",
       "    <tr>\n",
       "      <th>3</th>\n",
       "      <td>C</td>\n",
       "      <td>Louai</td>\n",
       "      <td>Vice President</td>\n",
       "      <td>25</td>\n",
       "      <td>11</td>\n",
       "      <td>Dune</td>\n",
       "    </tr>\n",
       "    <tr>\n",
       "      <th>4</th>\n",
       "      <td>D</td>\n",
       "      <td>Jamie</td>\n",
       "      <td>Events Manager</td>\n",
       "      <td>20</td>\n",
       "      <td>7</td>\n",
       "      <td>Dune</td>\n",
       "    </tr>\n",
       "    <tr>\n",
       "      <th>5</th>\n",
       "      <td>E</td>\n",
       "      <td>Yusef</td>\n",
       "      <td>Webmaster</td>\n",
       "      <td>12</td>\n",
       "      <td>3</td>\n",
       "      <td>Homeland</td>\n",
       "    </tr>\n",
       "    <tr>\n",
       "      <th>6</th>\n",
       "      <td>F</td>\n",
       "      <td>Cem</td>\n",
       "      <td>Community Manager</td>\n",
       "      <td>None</td>\n",
       "      <td>None</td>\n",
       "      <td>Homeland</td>\n",
       "    </tr>\n",
       "    <tr>\n",
       "      <th>7</th>\n",
       "      <td>G</td>\n",
       "      <td>Nick</td>\n",
       "      <td>Club Advisor</td>\n",
       "      <td>None</td>\n",
       "      <td>None</td>\n",
       "      <td>NaN</td>\n",
       "    </tr>\n",
       "  </tbody>\n",
       "</table>\n",
       "</div>"
      ],
      "text/plain": [
       "  ids  names          positions  ages how_cool  Favourite Book\n",
       "0   A   Nash          Treasurer    29       11  Ella Enchanted\n",
       "1   A   Nash          Treasurer    29       11  Ella Enchanted\n",
       "2   B   Kurt          President    26        7  Ella Enchanted\n",
       "3   C  Louai     Vice President    25       11            Dune\n",
       "4   D  Jamie     Events Manager    20        7            Dune\n",
       "5   E  Yusef          Webmaster    12        3        Homeland\n",
       "6   F    Cem  Community Manager  None     None        Homeland\n",
       "7   G   Nick       Club Advisor  None     None             NaN"
      ]
     },
     "execution_count": 37,
     "metadata": {},
     "output_type": "execute_result"
    }
   ],
   "source": [
    "df = df.append({\"ids\": \"G\", \"names\": \"Nick\", \"positions\": \"Club Advisor\", \"ages\": None, \"how_cool\": None}, \n",
    "          ignore_index=True) # Not specifying a \"Favourite Book\" causes a \"NaN\", Pandas' way of showing a missing value.\n",
    "df"
   ]
  },
  {
   "cell_type": "markdown",
   "metadata": {},
   "source": [
    "### Removing a Row"
   ]
  },
  {
   "cell_type": "code",
   "execution_count": 38,
   "metadata": {},
   "outputs": [
    {
     "data": {
      "text/html": [
       "<div>\n",
       "<style scoped>\n",
       "    .dataframe tbody tr th:only-of-type {\n",
       "        vertical-align: middle;\n",
       "    }\n",
       "\n",
       "    .dataframe tbody tr th {\n",
       "        vertical-align: top;\n",
       "    }\n",
       "\n",
       "    .dataframe thead th {\n",
       "        text-align: right;\n",
       "    }\n",
       "</style>\n",
       "<table border=\"1\" class=\"dataframe\">\n",
       "  <thead>\n",
       "    <tr style=\"text-align: right;\">\n",
       "      <th></th>\n",
       "      <th>ids</th>\n",
       "      <th>names</th>\n",
       "      <th>positions</th>\n",
       "      <th>ages</th>\n",
       "      <th>how_cool</th>\n",
       "      <th>Favourite Book</th>\n",
       "    </tr>\n",
       "  </thead>\n",
       "  <tbody>\n",
       "    <tr>\n",
       "      <th>0</th>\n",
       "      <td>A</td>\n",
       "      <td>Nash</td>\n",
       "      <td>Treasurer</td>\n",
       "      <td>29</td>\n",
       "      <td>11</td>\n",
       "      <td>Ella Enchanted</td>\n",
       "    </tr>\n",
       "    <tr>\n",
       "      <th>1</th>\n",
       "      <td>A</td>\n",
       "      <td>Nash</td>\n",
       "      <td>Treasurer</td>\n",
       "      <td>29</td>\n",
       "      <td>11</td>\n",
       "      <td>Ella Enchanted</td>\n",
       "    </tr>\n",
       "    <tr>\n",
       "      <th>2</th>\n",
       "      <td>B</td>\n",
       "      <td>Kurt</td>\n",
       "      <td>President</td>\n",
       "      <td>26</td>\n",
       "      <td>7</td>\n",
       "      <td>Ella Enchanted</td>\n",
       "    </tr>\n",
       "    <tr>\n",
       "      <th>3</th>\n",
       "      <td>C</td>\n",
       "      <td>Louai</td>\n",
       "      <td>Vice President</td>\n",
       "      <td>25</td>\n",
       "      <td>11</td>\n",
       "      <td>Dune</td>\n",
       "    </tr>\n",
       "    <tr>\n",
       "      <th>4</th>\n",
       "      <td>D</td>\n",
       "      <td>Jamie</td>\n",
       "      <td>Events Manager</td>\n",
       "      <td>20</td>\n",
       "      <td>7</td>\n",
       "      <td>Dune</td>\n",
       "    </tr>\n",
       "    <tr>\n",
       "      <th>5</th>\n",
       "      <td>E</td>\n",
       "      <td>Yusef</td>\n",
       "      <td>Webmaster</td>\n",
       "      <td>12</td>\n",
       "      <td>3</td>\n",
       "      <td>Homeland</td>\n",
       "    </tr>\n",
       "    <tr>\n",
       "      <th>6</th>\n",
       "      <td>F</td>\n",
       "      <td>Cem</td>\n",
       "      <td>Community Manager</td>\n",
       "      <td>None</td>\n",
       "      <td>None</td>\n",
       "      <td>Homeland</td>\n",
       "    </tr>\n",
       "  </tbody>\n",
       "</table>\n",
       "</div>"
      ],
      "text/plain": [
       "  ids  names          positions  ages how_cool  Favourite Book\n",
       "0   A   Nash          Treasurer    29       11  Ella Enchanted\n",
       "1   A   Nash          Treasurer    29       11  Ella Enchanted\n",
       "2   B   Kurt          President    26        7  Ella Enchanted\n",
       "3   C  Louai     Vice President    25       11            Dune\n",
       "4   D  Jamie     Events Manager    20        7            Dune\n",
       "5   E  Yusef          Webmaster    12        3        Homeland\n",
       "6   F    Cem  Community Manager  None     None        Homeland"
      ]
     },
     "execution_count": 38,
     "metadata": {},
     "output_type": "execute_result"
    }
   ],
   "source": [
    "df = df.drop(df.index[7], axis=0)\n",
    "df"
   ]
  },
  {
   "cell_type": "markdown",
   "metadata": {},
   "source": [
    "### Getting Dataframe Column Data Types"
   ]
  },
  {
   "cell_type": "code",
   "execution_count": 39,
   "metadata": {},
   "outputs": [
    {
     "data": {
      "text/plain": [
       "ids               object\n",
       "names             object\n",
       "positions         object\n",
       "ages              object\n",
       "how_cool          object\n",
       "Favourite Book    object\n",
       "dtype: object"
      ]
     },
     "execution_count": 39,
     "metadata": {},
     "output_type": "execute_result"
    }
   ],
   "source": [
    "df.dtypes"
   ]
  },
  {
   "cell_type": "markdown",
   "metadata": {},
   "source": [
    "### Filling in Missing Values"
   ]
  },
  {
   "cell_type": "code",
   "execution_count": 40,
   "metadata": {},
   "outputs": [
    {
     "data": {
      "text/html": [
       "<div>\n",
       "<style scoped>\n",
       "    .dataframe tbody tr th:only-of-type {\n",
       "        vertical-align: middle;\n",
       "    }\n",
       "\n",
       "    .dataframe tbody tr th {\n",
       "        vertical-align: top;\n",
       "    }\n",
       "\n",
       "    .dataframe thead th {\n",
       "        text-align: right;\n",
       "    }\n",
       "</style>\n",
       "<table border=\"1\" class=\"dataframe\">\n",
       "  <thead>\n",
       "    <tr style=\"text-align: right;\">\n",
       "      <th></th>\n",
       "      <th>ids</th>\n",
       "      <th>names</th>\n",
       "      <th>positions</th>\n",
       "      <th>ages</th>\n",
       "      <th>how_cool</th>\n",
       "      <th>Favourite Book</th>\n",
       "    </tr>\n",
       "  </thead>\n",
       "  <tbody>\n",
       "    <tr>\n",
       "      <th>0</th>\n",
       "      <td>A</td>\n",
       "      <td>Nash</td>\n",
       "      <td>Treasurer</td>\n",
       "      <td>29</td>\n",
       "      <td>11</td>\n",
       "      <td>Ella Enchanted</td>\n",
       "    </tr>\n",
       "    <tr>\n",
       "      <th>1</th>\n",
       "      <td>A</td>\n",
       "      <td>Nash</td>\n",
       "      <td>Treasurer</td>\n",
       "      <td>29</td>\n",
       "      <td>11</td>\n",
       "      <td>Ella Enchanted</td>\n",
       "    </tr>\n",
       "    <tr>\n",
       "      <th>2</th>\n",
       "      <td>B</td>\n",
       "      <td>Kurt</td>\n",
       "      <td>President</td>\n",
       "      <td>26</td>\n",
       "      <td>7</td>\n",
       "      <td>Ella Enchanted</td>\n",
       "    </tr>\n",
       "    <tr>\n",
       "      <th>3</th>\n",
       "      <td>C</td>\n",
       "      <td>Louai</td>\n",
       "      <td>Vice President</td>\n",
       "      <td>25</td>\n",
       "      <td>11</td>\n",
       "      <td>Dune</td>\n",
       "    </tr>\n",
       "    <tr>\n",
       "      <th>4</th>\n",
       "      <td>D</td>\n",
       "      <td>Jamie</td>\n",
       "      <td>Events Manager</td>\n",
       "      <td>20</td>\n",
       "      <td>7</td>\n",
       "      <td>Dune</td>\n",
       "    </tr>\n",
       "    <tr>\n",
       "      <th>5</th>\n",
       "      <td>E</td>\n",
       "      <td>Yusef</td>\n",
       "      <td>Webmaster</td>\n",
       "      <td>12</td>\n",
       "      <td>3</td>\n",
       "      <td>Homeland</td>\n",
       "    </tr>\n",
       "    <tr>\n",
       "      <th>6</th>\n",
       "      <td>F</td>\n",
       "      <td>Cem</td>\n",
       "      <td>Community Manager</td>\n",
       "      <td>-1</td>\n",
       "      <td>-1</td>\n",
       "      <td>Homeland</td>\n",
       "    </tr>\n",
       "  </tbody>\n",
       "</table>\n",
       "</div>"
      ],
      "text/plain": [
       "  ids  names          positions ages how_cool  Favourite Book\n",
       "0   A   Nash          Treasurer   29       11  Ella Enchanted\n",
       "1   A   Nash          Treasurer   29       11  Ella Enchanted\n",
       "2   B   Kurt          President   26        7  Ella Enchanted\n",
       "3   C  Louai     Vice President   25       11            Dune\n",
       "4   D  Jamie     Events Manager   20        7            Dune\n",
       "5   E  Yusef          Webmaster   12        3        Homeland\n",
       "6   F    Cem  Community Manager   -1       -1        Homeland"
      ]
     },
     "execution_count": 40,
     "metadata": {},
     "output_type": "execute_result"
    }
   ],
   "source": [
    "negative_one_for_missing_values_df = df.fillna(-1)\n",
    "negative_one_for_missing_values_df "
   ]
  },
  {
   "cell_type": "code",
   "execution_count": 41,
   "metadata": {},
   "outputs": [
    {
     "data": {
      "text/html": [
       "<div>\n",
       "<style scoped>\n",
       "    .dataframe tbody tr th:only-of-type {\n",
       "        vertical-align: middle;\n",
       "    }\n",
       "\n",
       "    .dataframe tbody tr th {\n",
       "        vertical-align: top;\n",
       "    }\n",
       "\n",
       "    .dataframe thead th {\n",
       "        text-align: right;\n",
       "    }\n",
       "</style>\n",
       "<table border=\"1\" class=\"dataframe\">\n",
       "  <thead>\n",
       "    <tr style=\"text-align: right;\">\n",
       "      <th></th>\n",
       "      <th>ids</th>\n",
       "      <th>names</th>\n",
       "      <th>positions</th>\n",
       "      <th>ages</th>\n",
       "      <th>how_cool</th>\n",
       "      <th>Favourite Book</th>\n",
       "    </tr>\n",
       "  </thead>\n",
       "  <tbody>\n",
       "    <tr>\n",
       "      <th>0</th>\n",
       "      <td>A</td>\n",
       "      <td>Nash</td>\n",
       "      <td>Treasurer</td>\n",
       "      <td>29</td>\n",
       "      <td>11</td>\n",
       "      <td>Ella Enchanted</td>\n",
       "    </tr>\n",
       "    <tr>\n",
       "      <th>1</th>\n",
       "      <td>A</td>\n",
       "      <td>Nash</td>\n",
       "      <td>Treasurer</td>\n",
       "      <td>29</td>\n",
       "      <td>11</td>\n",
       "      <td>Ella Enchanted</td>\n",
       "    </tr>\n",
       "    <tr>\n",
       "      <th>2</th>\n",
       "      <td>B</td>\n",
       "      <td>Kurt</td>\n",
       "      <td>President</td>\n",
       "      <td>26</td>\n",
       "      <td>7</td>\n",
       "      <td>Ella Enchanted</td>\n",
       "    </tr>\n",
       "    <tr>\n",
       "      <th>3</th>\n",
       "      <td>C</td>\n",
       "      <td>Louai</td>\n",
       "      <td>Vice President</td>\n",
       "      <td>25</td>\n",
       "      <td>11</td>\n",
       "      <td>Dune</td>\n",
       "    </tr>\n",
       "    <tr>\n",
       "      <th>4</th>\n",
       "      <td>D</td>\n",
       "      <td>Jamie</td>\n",
       "      <td>Events Manager</td>\n",
       "      <td>20</td>\n",
       "      <td>7</td>\n",
       "      <td>Dune</td>\n",
       "    </tr>\n",
       "    <tr>\n",
       "      <th>5</th>\n",
       "      <td>E</td>\n",
       "      <td>Yusef</td>\n",
       "      <td>Webmaster</td>\n",
       "      <td>12</td>\n",
       "      <td>3</td>\n",
       "      <td>Homeland</td>\n",
       "    </tr>\n",
       "  </tbody>\n",
       "</table>\n",
       "</div>"
      ],
      "text/plain": [
       "  ids  names       positions ages how_cool  Favourite Book\n",
       "0   A   Nash       Treasurer   29       11  Ella Enchanted\n",
       "1   A   Nash       Treasurer   29       11  Ella Enchanted\n",
       "2   B   Kurt       President   26        7  Ella Enchanted\n",
       "3   C  Louai  Vice President   25       11            Dune\n",
       "4   D  Jamie  Events Manager   20        7            Dune\n",
       "5   E  Yusef       Webmaster   12        3        Homeland"
      ]
     },
     "execution_count": 41,
     "metadata": {},
     "output_type": "execute_result"
    }
   ],
   "source": [
    "no_nas_df = df.dropna()\n",
    "no_nas_df"
   ]
  },
  {
   "cell_type": "markdown",
   "metadata": {},
   "source": [
    "### Dropping Duplicate Rows"
   ]
  },
  {
   "cell_type": "code",
   "execution_count": 42,
   "metadata": {},
   "outputs": [
    {
     "data": {
      "text/html": [
       "<div>\n",
       "<style scoped>\n",
       "    .dataframe tbody tr th:only-of-type {\n",
       "        vertical-align: middle;\n",
       "    }\n",
       "\n",
       "    .dataframe tbody tr th {\n",
       "        vertical-align: top;\n",
       "    }\n",
       "\n",
       "    .dataframe thead th {\n",
       "        text-align: right;\n",
       "    }\n",
       "</style>\n",
       "<table border=\"1\" class=\"dataframe\">\n",
       "  <thead>\n",
       "    <tr style=\"text-align: right;\">\n",
       "      <th></th>\n",
       "      <th>ids</th>\n",
       "      <th>names</th>\n",
       "      <th>positions</th>\n",
       "      <th>ages</th>\n",
       "      <th>how_cool</th>\n",
       "      <th>Favourite Book</th>\n",
       "    </tr>\n",
       "  </thead>\n",
       "  <tbody>\n",
       "    <tr>\n",
       "      <th>0</th>\n",
       "      <td>A</td>\n",
       "      <td>Nash</td>\n",
       "      <td>Treasurer</td>\n",
       "      <td>29</td>\n",
       "      <td>11</td>\n",
       "      <td>Ella Enchanted</td>\n",
       "    </tr>\n",
       "    <tr>\n",
       "      <th>2</th>\n",
       "      <td>B</td>\n",
       "      <td>Kurt</td>\n",
       "      <td>President</td>\n",
       "      <td>26</td>\n",
       "      <td>7</td>\n",
       "      <td>Ella Enchanted</td>\n",
       "    </tr>\n",
       "    <tr>\n",
       "      <th>3</th>\n",
       "      <td>C</td>\n",
       "      <td>Louai</td>\n",
       "      <td>Vice President</td>\n",
       "      <td>25</td>\n",
       "      <td>11</td>\n",
       "      <td>Dune</td>\n",
       "    </tr>\n",
       "    <tr>\n",
       "      <th>4</th>\n",
       "      <td>D</td>\n",
       "      <td>Jamie</td>\n",
       "      <td>Events Manager</td>\n",
       "      <td>20</td>\n",
       "      <td>7</td>\n",
       "      <td>Dune</td>\n",
       "    </tr>\n",
       "    <tr>\n",
       "      <th>5</th>\n",
       "      <td>E</td>\n",
       "      <td>Yusef</td>\n",
       "      <td>Webmaster</td>\n",
       "      <td>12</td>\n",
       "      <td>3</td>\n",
       "      <td>Homeland</td>\n",
       "    </tr>\n",
       "    <tr>\n",
       "      <th>6</th>\n",
       "      <td>F</td>\n",
       "      <td>Cem</td>\n",
       "      <td>Community Manager</td>\n",
       "      <td>-1</td>\n",
       "      <td>-1</td>\n",
       "      <td>Homeland</td>\n",
       "    </tr>\n",
       "  </tbody>\n",
       "</table>\n",
       "</div>"
      ],
      "text/plain": [
       "  ids  names          positions ages how_cool  Favourite Book\n",
       "0   A   Nash          Treasurer   29       11  Ella Enchanted\n",
       "2   B   Kurt          President   26        7  Ella Enchanted\n",
       "3   C  Louai     Vice President   25       11            Dune\n",
       "4   D  Jamie     Events Manager   20        7            Dune\n",
       "5   E  Yusef          Webmaster   12        3        Homeland\n",
       "6   F    Cem  Community Manager   -1       -1        Homeland"
      ]
     },
     "execution_count": 42,
     "metadata": {},
     "output_type": "execute_result"
    }
   ],
   "source": [
    "df = negative_one_for_missing_values_df\n",
    "no_duplicates_df = df.drop_duplicates()\n",
    "no_duplicates_df"
   ]
  },
  {
   "cell_type": "markdown",
   "metadata": {},
   "source": [
    "### Setting a Column's Data Type"
   ]
  },
  {
   "cell_type": "code",
   "execution_count": 43,
   "metadata": {},
   "outputs": [
    {
     "data": {
      "text/plain": [
       "ids               object\n",
       "names             object\n",
       "positions         object\n",
       "ages               int64\n",
       "how_cool           int64\n",
       "Favourite Book    object\n",
       "dtype: object"
      ]
     },
     "execution_count": 43,
     "metadata": {},
     "output_type": "execute_result"
    }
   ],
   "source": [
    "df['ages'] = df['ages'].astype(int)\n",
    "df['how_cool'] = df['how_cool'].astype(int)\n",
    "df.dtypes"
   ]
  },
  {
   "cell_type": "markdown",
   "metadata": {},
   "source": [
    "---------------------------------\n",
    "### **Exercise: Perform the Following Operations on the Data Provided**\n",
    "- Make a Dataframe\n",
    "- Change Column Data Types to Appropriate Value\n",
    "- Deal with Duplicates (What do?)\n",
    "- Set the index to RatingID\n",
    "- Deal with Missing Data: Drop or Fill (And with what?)\n",
    "- Set Approprite Data Types for all Columns\n",
    "- *Extra #1*: Give me the average course rating and the average professor rating (using Pandas, of course :P)\n",
    "- *Extra #2*: Give me the highest course rating and the highest professor rating (using Pandas, of course :P)"
   ]
  },
  {
   "cell_type": "code",
   "execution_count": 44,
   "metadata": {},
   "outputs": [
    {
     "name": "stdout",
     "output_type": "stream",
     "text": [
      "Average Course Rating: 7.0\n",
      "Average Professor Rating: 5.5\n",
      "Max Course Rating: 8.0\n",
      "Max Professor Rating: 10.0\n"
     ]
    },
    {
     "data": {
      "text/html": [
       "<div>\n",
       "<style scoped>\n",
       "    .dataframe tbody tr th:only-of-type {\n",
       "        vertical-align: middle;\n",
       "    }\n",
       "\n",
       "    .dataframe tbody tr th {\n",
       "        vertical-align: top;\n",
       "    }\n",
       "\n",
       "    .dataframe thead th {\n",
       "        text-align: right;\n",
       "    }\n",
       "</style>\n",
       "<table border=\"1\" class=\"dataframe\">\n",
       "  <thead>\n",
       "    <tr style=\"text-align: right;\">\n",
       "      <th></th>\n",
       "      <th>CourseID</th>\n",
       "      <th>Professor</th>\n",
       "      <th>Course Rating</th>\n",
       "      <th>Professor Rating</th>\n",
       "    </tr>\n",
       "    <tr>\n",
       "      <th>RatingID</th>\n",
       "      <th></th>\n",
       "      <th></th>\n",
       "      <th></th>\n",
       "      <th></th>\n",
       "    </tr>\n",
       "  </thead>\n",
       "  <tbody>\n",
       "    <tr>\n",
       "      <th>A</th>\n",
       "      <td>SEC1123</td>\n",
       "      <td>Minerva McGonagall</td>\n",
       "      <td>7.0</td>\n",
       "      <td>10.0</td>\n",
       "    </tr>\n",
       "    <tr>\n",
       "      <th>B</th>\n",
       "      <td>SEC2343</td>\n",
       "      <td>John Keating</td>\n",
       "      <td>8.0</td>\n",
       "      <td>3.0</td>\n",
       "    </tr>\n",
       "    <tr>\n",
       "      <th>C</th>\n",
       "      <td>SEC2343</td>\n",
       "      <td>John Keating</td>\n",
       "      <td>8.0</td>\n",
       "      <td>3.0</td>\n",
       "    </tr>\n",
       "    <tr>\n",
       "      <th>D</th>\n",
       "      <td>SEC7866</td>\n",
       "      <td>Vivian Banks</td>\n",
       "      <td>5.0</td>\n",
       "      <td>6.0</td>\n",
       "    </tr>\n",
       "    <tr>\n",
       "      <th>E</th>\n",
       "      <td>PROG980</td>\n",
       "      <td>Peter Venkman</td>\n",
       "      <td>7.0</td>\n",
       "      <td>5.5</td>\n",
       "    </tr>\n",
       "    <tr>\n",
       "      <th>F</th>\n",
       "      <td>PROG898</td>\n",
       "      <td>Abraham Van Helsing</td>\n",
       "      <td>7.0</td>\n",
       "      <td>5.5</td>\n",
       "    </tr>\n",
       "  </tbody>\n",
       "</table>\n",
       "</div>"
      ],
      "text/plain": [
       "         CourseID            Professor  Course Rating  Professor Rating\n",
       "RatingID                                                               \n",
       "A         SEC1123   Minerva McGonagall            7.0              10.0\n",
       "B         SEC2343         John Keating            8.0               3.0\n",
       "C         SEC2343         John Keating            8.0               3.0\n",
       "D         SEC7866         Vivian Banks            5.0               6.0\n",
       "E         PROG980        Peter Venkman            7.0               5.5\n",
       "F         PROG898  Abraham Van Helsing            7.0               5.5"
      ]
     },
     "execution_count": 44,
     "metadata": {},
     "output_type": "execute_result"
    }
   ],
   "source": [
    "course_prof_ratings = [\n",
    "    {\"RatingID\": \"A\", \"CourseID\": \"SEC1123\", \"Professor\": \"Minerva McGonagall\", \"Course Rating\": \"7\", \"Professor Rating\": \"10\"},\n",
    "    {\"RatingID\": \"B\", \"CourseID\": \"SEC2343\", \"Professor\": \"John Keating\", \"Course Rating\": \"8\", \"Professor Rating\": \"3\"},\n",
    "    {\"RatingID\": \"C\", \"CourseID\": \"SEC2343\", \"Professor\": \"John Keating\", \"Course Rating\": \"8\", \"Professor Rating\": \"3\"},\n",
    "    {\"RatingID\": \"D\", \"CourseID\": \"SEC7866\", \"Professor\": \"Vivian Banks\", \"Course Rating\": \"5\", \"Professor Rating\": \"6\"},\n",
    "    {\"RatingID\": \"E\", \"CourseID\": \"PROG980\", \"Professor\": \"Peter Venkman\", \"Course Rating\": np.nan, \"Professor Rating\": np.nan},\n",
    "    {\"RatingID\": \"F\", \"CourseID\": \"PROG898\", \"Professor\": \"Abraham Van Helsing\", \"Course Rating\": np.nan, \"Professor Rating\": np.nan},\n",
    "]\n",
    "\n",
    "# Gotcha: NaN applies only to floats, not integers\n",
    "\n",
    "# Make a Dataframe\n",
    "course_prof_ratings_df = pd.DataFrame(course_prof_ratings)\n",
    "\n",
    "# Set Data Types\n",
    "course_prof_ratings_df['Course Rating'] = course_prof_ratings_df['Course Rating'].astype(float)\n",
    "course_prof_ratings_df['Professor Rating'] = course_prof_ratings_df['Professor Rating'].astype(float)\n",
    "\n",
    "# Set the index to RatingID\n",
    "course_prof_ratings_df = course_prof_ratings_df.set_index(['RatingID'])\n",
    "\n",
    "# Deal with Missing Data: Drop or Fill (And with what?)\n",
    "course_prof_ratings_df['Course Rating'] = course_prof_ratings_df['Course Rating'].fillna(course_prof_ratings_df['Course Rating'].mean())\n",
    "course_prof_ratings_df['Professor Rating'] = course_prof_ratings_df['Professor Rating'].fillna(course_prof_ratings_df['Professor Rating'].mean())\n",
    "\n",
    "# Deal with Duplicates\n",
    "#course_prof_ratings_df.drop_duplicates() # But does that make sense?\n",
    "\n",
    "# Extra #1: Average Course Rating and Average Professor Rating\n",
    "print(\"Average Course Rating: {0}\".format(course_prof_ratings_df['Course Rating'].mean()))\n",
    "print(\"Average Professor Rating: {0}\".format(course_prof_ratings_df['Professor Rating'].mean()))\n",
    "\n",
    "# Extra #2: Max Course Rating and Max Professor Rating\n",
    "print(\"Max Course Rating: {0}\".format(course_prof_ratings_df['Course Rating'].max()))\n",
    "print(\"Max Professor Rating: {0}\".format(course_prof_ratings_df['Professor Rating'].max()))\n",
    "\n",
    "course_prof_ratings_df"
   ]
  },
  {
   "cell_type": "markdown",
   "metadata": {},
   "source": [
    "------------------------------------------"
   ]
  },
  {
   "cell_type": "markdown",
   "metadata": {},
   "source": [
    "## **Part #3: Data Modification, Filtering, and Aggregation**"
   ]
  },
  {
   "cell_type": "markdown",
   "metadata": {},
   "source": [
    "### Back to ISSessions Executives Dataframe"
   ]
  },
  {
   "cell_type": "code",
   "execution_count": 45,
   "metadata": {},
   "outputs": [
    {
     "data": {
      "text/html": [
       "<div>\n",
       "<style scoped>\n",
       "    .dataframe tbody tr th:only-of-type {\n",
       "        vertical-align: middle;\n",
       "    }\n",
       "\n",
       "    .dataframe tbody tr th {\n",
       "        vertical-align: top;\n",
       "    }\n",
       "\n",
       "    .dataframe thead th {\n",
       "        text-align: right;\n",
       "    }\n",
       "</style>\n",
       "<table border=\"1\" class=\"dataframe\">\n",
       "  <thead>\n",
       "    <tr style=\"text-align: right;\">\n",
       "      <th></th>\n",
       "      <th>ids</th>\n",
       "      <th>names</th>\n",
       "      <th>positions</th>\n",
       "      <th>ages</th>\n",
       "      <th>how_cool</th>\n",
       "      <th>Favourite Book</th>\n",
       "    </tr>\n",
       "  </thead>\n",
       "  <tbody>\n",
       "    <tr>\n",
       "      <th>0</th>\n",
       "      <td>A</td>\n",
       "      <td>Nash</td>\n",
       "      <td>Treasurer</td>\n",
       "      <td>29</td>\n",
       "      <td>11</td>\n",
       "      <td>Ella Enchanted</td>\n",
       "    </tr>\n",
       "    <tr>\n",
       "      <th>1</th>\n",
       "      <td>A</td>\n",
       "      <td>Nash</td>\n",
       "      <td>Treasurer</td>\n",
       "      <td>29</td>\n",
       "      <td>11</td>\n",
       "      <td>Ella Enchanted</td>\n",
       "    </tr>\n",
       "    <tr>\n",
       "      <th>2</th>\n",
       "      <td>B</td>\n",
       "      <td>Kurt</td>\n",
       "      <td>President</td>\n",
       "      <td>26</td>\n",
       "      <td>7</td>\n",
       "      <td>Ella Enchanted</td>\n",
       "    </tr>\n",
       "    <tr>\n",
       "      <th>3</th>\n",
       "      <td>C</td>\n",
       "      <td>Louai</td>\n",
       "      <td>Vice President</td>\n",
       "      <td>25</td>\n",
       "      <td>11</td>\n",
       "      <td>Dune</td>\n",
       "    </tr>\n",
       "    <tr>\n",
       "      <th>4</th>\n",
       "      <td>D</td>\n",
       "      <td>Jamie</td>\n",
       "      <td>Events Manager</td>\n",
       "      <td>20</td>\n",
       "      <td>7</td>\n",
       "      <td>Dune</td>\n",
       "    </tr>\n",
       "    <tr>\n",
       "      <th>5</th>\n",
       "      <td>E</td>\n",
       "      <td>Yusef</td>\n",
       "      <td>Webmaster</td>\n",
       "      <td>12</td>\n",
       "      <td>3</td>\n",
       "      <td>Homeland</td>\n",
       "    </tr>\n",
       "    <tr>\n",
       "      <th>6</th>\n",
       "      <td>F</td>\n",
       "      <td>Cem</td>\n",
       "      <td>Community Manager</td>\n",
       "      <td>-1</td>\n",
       "      <td>-1</td>\n",
       "      <td>Homeland</td>\n",
       "    </tr>\n",
       "  </tbody>\n",
       "</table>\n",
       "</div>"
      ],
      "text/plain": [
       "  ids  names          positions  ages  how_cool  Favourite Book\n",
       "0   A   Nash          Treasurer    29        11  Ella Enchanted\n",
       "1   A   Nash          Treasurer    29        11  Ella Enchanted\n",
       "2   B   Kurt          President    26         7  Ella Enchanted\n",
       "3   C  Louai     Vice President    25        11            Dune\n",
       "4   D  Jamie     Events Manager    20         7            Dune\n",
       "5   E  Yusef          Webmaster    12         3        Homeland\n",
       "6   F    Cem  Community Manager    -1        -1        Homeland"
      ]
     },
     "execution_count": 45,
     "metadata": {},
     "output_type": "execute_result"
    }
   ],
   "source": [
    "df"
   ]
  },
  {
   "cell_type": "markdown",
   "metadata": {},
   "source": [
    "### Filtering Data: Simple Filter"
   ]
  },
  {
   "cell_type": "code",
   "execution_count": 46,
   "metadata": {},
   "outputs": [
    {
     "data": {
      "text/html": [
       "<div>\n",
       "<style scoped>\n",
       "    .dataframe tbody tr th:only-of-type {\n",
       "        vertical-align: middle;\n",
       "    }\n",
       "\n",
       "    .dataframe tbody tr th {\n",
       "        vertical-align: top;\n",
       "    }\n",
       "\n",
       "    .dataframe thead th {\n",
       "        text-align: right;\n",
       "    }\n",
       "</style>\n",
       "<table border=\"1\" class=\"dataframe\">\n",
       "  <thead>\n",
       "    <tr style=\"text-align: right;\">\n",
       "      <th></th>\n",
       "      <th>ids</th>\n",
       "      <th>names</th>\n",
       "      <th>positions</th>\n",
       "      <th>ages</th>\n",
       "      <th>how_cool</th>\n",
       "      <th>Favourite Book</th>\n",
       "    </tr>\n",
       "  </thead>\n",
       "  <tbody>\n",
       "    <tr>\n",
       "      <th>0</th>\n",
       "      <td>A</td>\n",
       "      <td>Nash</td>\n",
       "      <td>Treasurer</td>\n",
       "      <td>29</td>\n",
       "      <td>11</td>\n",
       "      <td>Ella Enchanted</td>\n",
       "    </tr>\n",
       "    <tr>\n",
       "      <th>1</th>\n",
       "      <td>A</td>\n",
       "      <td>Nash</td>\n",
       "      <td>Treasurer</td>\n",
       "      <td>29</td>\n",
       "      <td>11</td>\n",
       "      <td>Ella Enchanted</td>\n",
       "    </tr>\n",
       "    <tr>\n",
       "      <th>2</th>\n",
       "      <td>C</td>\n",
       "      <td>Louai</td>\n",
       "      <td>Vice President</td>\n",
       "      <td>25</td>\n",
       "      <td>11</td>\n",
       "      <td>Dune</td>\n",
       "    </tr>\n",
       "  </tbody>\n",
       "</table>\n",
       "</div>"
      ],
      "text/plain": [
       "  ids  names       positions  ages  how_cool  Favourite Book\n",
       "0   A   Nash       Treasurer    29        11  Ella Enchanted\n",
       "1   A   Nash       Treasurer    29        11  Ella Enchanted\n",
       "2   C  Louai  Vice President    25        11            Dune"
      ]
     },
     "execution_count": 46,
     "metadata": {},
     "output_type": "execute_result"
    }
   ],
   "source": [
    "simple_filter = df['how_cool'] > 9 # Anyone who is coolter than a 9\n",
    "df[simple_filter].reset_index(drop=True)"
   ]
  },
  {
   "cell_type": "markdown",
   "metadata": {},
   "source": [
    "### Filtering Data: AND"
   ]
  },
  {
   "cell_type": "code",
   "execution_count": 47,
   "metadata": {},
   "outputs": [
    {
     "data": {
      "text/html": [
       "<div>\n",
       "<style scoped>\n",
       "    .dataframe tbody tr th:only-of-type {\n",
       "        vertical-align: middle;\n",
       "    }\n",
       "\n",
       "    .dataframe tbody tr th {\n",
       "        vertical-align: top;\n",
       "    }\n",
       "\n",
       "    .dataframe thead th {\n",
       "        text-align: right;\n",
       "    }\n",
       "</style>\n",
       "<table border=\"1\" class=\"dataframe\">\n",
       "  <thead>\n",
       "    <tr style=\"text-align: right;\">\n",
       "      <th></th>\n",
       "      <th>ids</th>\n",
       "      <th>names</th>\n",
       "      <th>positions</th>\n",
       "      <th>ages</th>\n",
       "      <th>how_cool</th>\n",
       "      <th>Favourite Book</th>\n",
       "    </tr>\n",
       "  </thead>\n",
       "  <tbody>\n",
       "    <tr>\n",
       "      <th>0</th>\n",
       "      <td>C</td>\n",
       "      <td>Louai</td>\n",
       "      <td>Vice President</td>\n",
       "      <td>25</td>\n",
       "      <td>11</td>\n",
       "      <td>Dune</td>\n",
       "    </tr>\n",
       "  </tbody>\n",
       "</table>\n",
       "</div>"
      ],
      "text/plain": [
       "  ids  names       positions  ages  how_cool Favourite Book\n",
       "0   C  Louai  Vice President    25        11           Dune"
      ]
     },
     "execution_count": 47,
     "metadata": {},
     "output_type": "execute_result"
    }
   ],
   "source": [
    "and_filter = (df['positions'].str.contains(\"President$\")) & (df['how_cool'] > 9) # anyone that has President in their title and is coolter than a 9 \n",
    "df[and_filter].reset_index(drop=True)"
   ]
  },
  {
   "cell_type": "markdown",
   "metadata": {},
   "source": [
    "### Filtering Data: OR"
   ]
  },
  {
   "cell_type": "code",
   "execution_count": 48,
   "metadata": {},
   "outputs": [
    {
     "data": {
      "text/html": [
       "<div>\n",
       "<style scoped>\n",
       "    .dataframe tbody tr th:only-of-type {\n",
       "        vertical-align: middle;\n",
       "    }\n",
       "\n",
       "    .dataframe tbody tr th {\n",
       "        vertical-align: top;\n",
       "    }\n",
       "\n",
       "    .dataframe thead th {\n",
       "        text-align: right;\n",
       "    }\n",
       "</style>\n",
       "<table border=\"1\" class=\"dataframe\">\n",
       "  <thead>\n",
       "    <tr style=\"text-align: right;\">\n",
       "      <th></th>\n",
       "      <th>ids</th>\n",
       "      <th>names</th>\n",
       "      <th>positions</th>\n",
       "      <th>ages</th>\n",
       "      <th>how_cool</th>\n",
       "      <th>Favourite Book</th>\n",
       "    </tr>\n",
       "  </thead>\n",
       "  <tbody>\n",
       "    <tr>\n",
       "      <th>0</th>\n",
       "      <td>A</td>\n",
       "      <td>Nash</td>\n",
       "      <td>Treasurer</td>\n",
       "      <td>29</td>\n",
       "      <td>11</td>\n",
       "      <td>Ella Enchanted</td>\n",
       "    </tr>\n",
       "    <tr>\n",
       "      <th>1</th>\n",
       "      <td>A</td>\n",
       "      <td>Nash</td>\n",
       "      <td>Treasurer</td>\n",
       "      <td>29</td>\n",
       "      <td>11</td>\n",
       "      <td>Ella Enchanted</td>\n",
       "    </tr>\n",
       "    <tr>\n",
       "      <th>2</th>\n",
       "      <td>B</td>\n",
       "      <td>Kurt</td>\n",
       "      <td>President</td>\n",
       "      <td>26</td>\n",
       "      <td>7</td>\n",
       "      <td>Ella Enchanted</td>\n",
       "    </tr>\n",
       "    <tr>\n",
       "      <th>3</th>\n",
       "      <td>F</td>\n",
       "      <td>Cem</td>\n",
       "      <td>Community Manager</td>\n",
       "      <td>-1</td>\n",
       "      <td>-1</td>\n",
       "      <td>Homeland</td>\n",
       "    </tr>\n",
       "  </tbody>\n",
       "</table>\n",
       "</div>"
      ],
      "text/plain": [
       "  ids names          positions  ages  how_cool  Favourite Book\n",
       "0   A  Nash          Treasurer    29        11  Ella Enchanted\n",
       "1   A  Nash          Treasurer    29        11  Ella Enchanted\n",
       "2   B  Kurt          President    26         7  Ella Enchanted\n",
       "3   F   Cem  Community Manager    -1        -1        Homeland"
      ]
     },
     "execution_count": 48,
     "metadata": {},
     "output_type": "execute_result"
    }
   ],
   "source": [
    "or_filter = (df['names'].str.len() < 4) | (df['Favourite Book'].str.contains(\"Ella Enchanted\")) # names with less than 4 letters or those who love Ella Enchanted\n",
    "df[or_filter].reset_index(drop=True)"
   ]
  },
  {
   "cell_type": "markdown",
   "metadata": {},
   "source": [
    "### Filtering Data: NOT"
   ]
  },
  {
   "cell_type": "code",
   "execution_count": 49,
   "metadata": {},
   "outputs": [
    {
     "data": {
      "text/html": [
       "<div>\n",
       "<style scoped>\n",
       "    .dataframe tbody tr th:only-of-type {\n",
       "        vertical-align: middle;\n",
       "    }\n",
       "\n",
       "    .dataframe tbody tr th {\n",
       "        vertical-align: top;\n",
       "    }\n",
       "\n",
       "    .dataframe thead th {\n",
       "        text-align: right;\n",
       "    }\n",
       "</style>\n",
       "<table border=\"1\" class=\"dataframe\">\n",
       "  <thead>\n",
       "    <tr style=\"text-align: right;\">\n",
       "      <th></th>\n",
       "      <th>ids</th>\n",
       "      <th>names</th>\n",
       "      <th>positions</th>\n",
       "      <th>ages</th>\n",
       "      <th>how_cool</th>\n",
       "      <th>Favourite Book</th>\n",
       "    </tr>\n",
       "  </thead>\n",
       "  <tbody>\n",
       "    <tr>\n",
       "      <th>0</th>\n",
       "      <td>A</td>\n",
       "      <td>Nash</td>\n",
       "      <td>Treasurer</td>\n",
       "      <td>29</td>\n",
       "      <td>11</td>\n",
       "      <td>Ella Enchanted</td>\n",
       "    </tr>\n",
       "    <tr>\n",
       "      <th>1</th>\n",
       "      <td>A</td>\n",
       "      <td>Nash</td>\n",
       "      <td>Treasurer</td>\n",
       "      <td>29</td>\n",
       "      <td>11</td>\n",
       "      <td>Ella Enchanted</td>\n",
       "    </tr>\n",
       "    <tr>\n",
       "      <th>2</th>\n",
       "      <td>B</td>\n",
       "      <td>Kurt</td>\n",
       "      <td>President</td>\n",
       "      <td>26</td>\n",
       "      <td>7</td>\n",
       "      <td>Ella Enchanted</td>\n",
       "    </tr>\n",
       "    <tr>\n",
       "      <th>3</th>\n",
       "      <td>D</td>\n",
       "      <td>Jamie</td>\n",
       "      <td>Events Manager</td>\n",
       "      <td>20</td>\n",
       "      <td>7</td>\n",
       "      <td>Dune</td>\n",
       "    </tr>\n",
       "    <tr>\n",
       "      <th>4</th>\n",
       "      <td>E</td>\n",
       "      <td>Yusef</td>\n",
       "      <td>Webmaster</td>\n",
       "      <td>12</td>\n",
       "      <td>3</td>\n",
       "      <td>Homeland</td>\n",
       "    </tr>\n",
       "    <tr>\n",
       "      <th>5</th>\n",
       "      <td>F</td>\n",
       "      <td>Cem</td>\n",
       "      <td>Community Manager</td>\n",
       "      <td>-1</td>\n",
       "      <td>-1</td>\n",
       "      <td>Homeland</td>\n",
       "    </tr>\n",
       "  </tbody>\n",
       "</table>\n",
       "</div>"
      ],
      "text/plain": [
       "  ids  names          positions  ages  how_cool  Favourite Book\n",
       "0   A   Nash          Treasurer    29        11  Ella Enchanted\n",
       "1   A   Nash          Treasurer    29        11  Ella Enchanted\n",
       "2   B   Kurt          President    26         7  Ella Enchanted\n",
       "3   D  Jamie     Events Manager    20         7            Dune\n",
       "4   E  Yusef          Webmaster    12         3        Homeland\n",
       "5   F    Cem  Community Manager    -1        -1        Homeland"
      ]
     },
     "execution_count": 49,
     "metadata": {},
     "output_type": "execute_result"
    }
   ],
   "source": [
    "not_filter = ~(df['ages'] == 25) # Anyone who is not aged 25\n",
    "df[not_filter].reset_index(drop=True)"
   ]
  },
  {
   "cell_type": "markdown",
   "metadata": {},
   "source": [
    "### Applying an Operation on a Column in a Dataframe: Simple Math"
   ]
  },
  {
   "cell_type": "code",
   "execution_count": 50,
   "metadata": {},
   "outputs": [
    {
     "data": {
      "text/html": [
       "<div>\n",
       "<style scoped>\n",
       "    .dataframe tbody tr th:only-of-type {\n",
       "        vertical-align: middle;\n",
       "    }\n",
       "\n",
       "    .dataframe tbody tr th {\n",
       "        vertical-align: top;\n",
       "    }\n",
       "\n",
       "    .dataframe thead th {\n",
       "        text-align: right;\n",
       "    }\n",
       "</style>\n",
       "<table border=\"1\" class=\"dataframe\">\n",
       "  <thead>\n",
       "    <tr style=\"text-align: right;\">\n",
       "      <th></th>\n",
       "      <th>ids</th>\n",
       "      <th>names</th>\n",
       "      <th>positions</th>\n",
       "      <th>ages</th>\n",
       "      <th>how_cool</th>\n",
       "      <th>Favourite Book</th>\n",
       "    </tr>\n",
       "  </thead>\n",
       "  <tbody>\n",
       "    <tr>\n",
       "      <th>0</th>\n",
       "      <td>A</td>\n",
       "      <td>Nash</td>\n",
       "      <td>Treasurer</td>\n",
       "      <td>29</td>\n",
       "      <td>22</td>\n",
       "      <td>Ella Enchanted</td>\n",
       "    </tr>\n",
       "    <tr>\n",
       "      <th>1</th>\n",
       "      <td>A</td>\n",
       "      <td>Nash</td>\n",
       "      <td>Treasurer</td>\n",
       "      <td>29</td>\n",
       "      <td>22</td>\n",
       "      <td>Ella Enchanted</td>\n",
       "    </tr>\n",
       "    <tr>\n",
       "      <th>2</th>\n",
       "      <td>B</td>\n",
       "      <td>Kurt</td>\n",
       "      <td>President</td>\n",
       "      <td>26</td>\n",
       "      <td>14</td>\n",
       "      <td>Ella Enchanted</td>\n",
       "    </tr>\n",
       "    <tr>\n",
       "      <th>3</th>\n",
       "      <td>C</td>\n",
       "      <td>Louai</td>\n",
       "      <td>Vice President</td>\n",
       "      <td>25</td>\n",
       "      <td>22</td>\n",
       "      <td>Dune</td>\n",
       "    </tr>\n",
       "    <tr>\n",
       "      <th>4</th>\n",
       "      <td>D</td>\n",
       "      <td>Jamie</td>\n",
       "      <td>Events Manager</td>\n",
       "      <td>20</td>\n",
       "      <td>14</td>\n",
       "      <td>Dune</td>\n",
       "    </tr>\n",
       "    <tr>\n",
       "      <th>5</th>\n",
       "      <td>E</td>\n",
       "      <td>Yusef</td>\n",
       "      <td>Webmaster</td>\n",
       "      <td>12</td>\n",
       "      <td>6</td>\n",
       "      <td>Homeland</td>\n",
       "    </tr>\n",
       "    <tr>\n",
       "      <th>6</th>\n",
       "      <td>F</td>\n",
       "      <td>Cem</td>\n",
       "      <td>Community Manager</td>\n",
       "      <td>-1</td>\n",
       "      <td>-1</td>\n",
       "      <td>Homeland</td>\n",
       "    </tr>\n",
       "  </tbody>\n",
       "</table>\n",
       "</div>"
      ],
      "text/plain": [
       "  ids  names          positions  ages  how_cool  Favourite Book\n",
       "0   A   Nash          Treasurer    29        22  Ella Enchanted\n",
       "1   A   Nash          Treasurer    29        22  Ella Enchanted\n",
       "2   B   Kurt          President    26        14  Ella Enchanted\n",
       "3   C  Louai     Vice President    25        22            Dune\n",
       "4   D  Jamie     Events Manager    20        14            Dune\n",
       "5   E  Yusef          Webmaster    12         6        Homeland\n",
       "6   F    Cem  Community Manager    -1        -1        Homeland"
      ]
     },
     "execution_count": 50,
     "metadata": {},
     "output_type": "execute_result"
    }
   ],
   "source": [
    "df['how_cool'] = df['how_cool'] * 2 # Changing the coolness scale to be out of 20\n",
    "df['how_cool'] = df['how_cool'].replace(-2, -1) # Replace the -2 (NA) with -1\n",
    "df"
   ]
  },
  {
   "cell_type": "markdown",
   "metadata": {},
   "source": [
    "### Applying an Operation on a Column in a Dataframe: List Comprehension"
   ]
  },
  {
   "cell_type": "code",
   "execution_count": 51,
   "metadata": {},
   "outputs": [
    {
     "data": {
      "text/html": [
       "<div>\n",
       "<style scoped>\n",
       "    .dataframe tbody tr th:only-of-type {\n",
       "        vertical-align: middle;\n",
       "    }\n",
       "\n",
       "    .dataframe tbody tr th {\n",
       "        vertical-align: top;\n",
       "    }\n",
       "\n",
       "    .dataframe thead th {\n",
       "        text-align: right;\n",
       "    }\n",
       "</style>\n",
       "<table border=\"1\" class=\"dataframe\">\n",
       "  <thead>\n",
       "    <tr style=\"text-align: right;\">\n",
       "      <th></th>\n",
       "      <th>ids</th>\n",
       "      <th>names</th>\n",
       "      <th>positions</th>\n",
       "      <th>ages</th>\n",
       "      <th>how_cool</th>\n",
       "      <th>Favourite Book</th>\n",
       "      <th>signature</th>\n",
       "    </tr>\n",
       "  </thead>\n",
       "  <tbody>\n",
       "    <tr>\n",
       "      <th>0</th>\n",
       "      <td>A</td>\n",
       "      <td>Nash</td>\n",
       "      <td>Treasurer</td>\n",
       "      <td>29</td>\n",
       "      <td>22</td>\n",
       "      <td>Ella Enchanted</td>\n",
       "      <td>Nash, Treasurer</td>\n",
       "    </tr>\n",
       "    <tr>\n",
       "      <th>1</th>\n",
       "      <td>A</td>\n",
       "      <td>Nash</td>\n",
       "      <td>Treasurer</td>\n",
       "      <td>29</td>\n",
       "      <td>22</td>\n",
       "      <td>Ella Enchanted</td>\n",
       "      <td>Nash, Treasurer</td>\n",
       "    </tr>\n",
       "    <tr>\n",
       "      <th>2</th>\n",
       "      <td>B</td>\n",
       "      <td>Kurt</td>\n",
       "      <td>President</td>\n",
       "      <td>26</td>\n",
       "      <td>14</td>\n",
       "      <td>Ella Enchanted</td>\n",
       "      <td>Kurt, President</td>\n",
       "    </tr>\n",
       "    <tr>\n",
       "      <th>3</th>\n",
       "      <td>C</td>\n",
       "      <td>Louai</td>\n",
       "      <td>Vice President</td>\n",
       "      <td>25</td>\n",
       "      <td>22</td>\n",
       "      <td>Dune</td>\n",
       "      <td>Louai, Vice President</td>\n",
       "    </tr>\n",
       "    <tr>\n",
       "      <th>4</th>\n",
       "      <td>D</td>\n",
       "      <td>Jamie</td>\n",
       "      <td>Events Manager</td>\n",
       "      <td>20</td>\n",
       "      <td>14</td>\n",
       "      <td>Dune</td>\n",
       "      <td>Jamie, Events Manager</td>\n",
       "    </tr>\n",
       "    <tr>\n",
       "      <th>5</th>\n",
       "      <td>E</td>\n",
       "      <td>Yusef</td>\n",
       "      <td>Webmaster</td>\n",
       "      <td>12</td>\n",
       "      <td>6</td>\n",
       "      <td>Homeland</td>\n",
       "      <td>Yusef, Webmaster</td>\n",
       "    </tr>\n",
       "    <tr>\n",
       "      <th>6</th>\n",
       "      <td>F</td>\n",
       "      <td>Cem</td>\n",
       "      <td>Community Manager</td>\n",
       "      <td>-1</td>\n",
       "      <td>-1</td>\n",
       "      <td>Homeland</td>\n",
       "      <td>Cem, Community Manager</td>\n",
       "    </tr>\n",
       "  </tbody>\n",
       "</table>\n",
       "</div>"
      ],
      "text/plain": [
       "  ids  names          positions  ages  how_cool  Favourite Book  \\\n",
       "0   A   Nash          Treasurer    29        22  Ella Enchanted   \n",
       "1   A   Nash          Treasurer    29        22  Ella Enchanted   \n",
       "2   B   Kurt          President    26        14  Ella Enchanted   \n",
       "3   C  Louai     Vice President    25        22            Dune   \n",
       "4   D  Jamie     Events Manager    20        14            Dune   \n",
       "5   E  Yusef          Webmaster    12         6        Homeland   \n",
       "6   F    Cem  Community Manager    -1        -1        Homeland   \n",
       "\n",
       "                signature  \n",
       "0         Nash, Treasurer  \n",
       "1         Nash, Treasurer  \n",
       "2         Kurt, President  \n",
       "3   Louai, Vice President  \n",
       "4   Jamie, Events Manager  \n",
       "5        Yusef, Webmaster  \n",
       "6  Cem, Community Manager  "
      ]
     },
     "execution_count": 51,
     "metadata": {},
     "output_type": "execute_result"
    }
   ],
   "source": [
    "df['signature'] = [\"{0}, {1}\".format(name, position) for name, position in zip(df['names'] , df['positions'])]\n",
    "df"
   ]
  },
  {
   "cell_type": "markdown",
   "metadata": {},
   "source": [
    "### Applying an Operation on a Column in a Dataframe Based on a Value in Another Column: Series.apply()"
   ]
  },
  {
   "cell_type": "code",
   "execution_count": 52,
   "metadata": {},
   "outputs": [
    {
     "data": {
      "text/html": [
       "<div>\n",
       "<style scoped>\n",
       "    .dataframe tbody tr th:only-of-type {\n",
       "        vertical-align: middle;\n",
       "    }\n",
       "\n",
       "    .dataframe tbody tr th {\n",
       "        vertical-align: top;\n",
       "    }\n",
       "\n",
       "    .dataframe thead th {\n",
       "        text-align: right;\n",
       "    }\n",
       "</style>\n",
       "<table border=\"1\" class=\"dataframe\">\n",
       "  <thead>\n",
       "    <tr style=\"text-align: right;\">\n",
       "      <th></th>\n",
       "      <th>ids</th>\n",
       "      <th>names</th>\n",
       "      <th>positions</th>\n",
       "      <th>ages</th>\n",
       "      <th>how_cool</th>\n",
       "      <th>Favourite Book</th>\n",
       "      <th>signature</th>\n",
       "    </tr>\n",
       "  </thead>\n",
       "  <tbody>\n",
       "    <tr>\n",
       "      <th>0</th>\n",
       "      <td>A</td>\n",
       "      <td>Nash</td>\n",
       "      <td>Treasurer</td>\n",
       "      <td>29</td>\n",
       "      <td>22</td>\n",
       "      <td>The Giver</td>\n",
       "      <td>Nash, Treasurer</td>\n",
       "    </tr>\n",
       "    <tr>\n",
       "      <th>1</th>\n",
       "      <td>A</td>\n",
       "      <td>Nash</td>\n",
       "      <td>Treasurer</td>\n",
       "      <td>29</td>\n",
       "      <td>22</td>\n",
       "      <td>The Giver</td>\n",
       "      <td>Nash, Treasurer</td>\n",
       "    </tr>\n",
       "    <tr>\n",
       "      <th>2</th>\n",
       "      <td>B</td>\n",
       "      <td>Kurt</td>\n",
       "      <td>President</td>\n",
       "      <td>26</td>\n",
       "      <td>14</td>\n",
       "      <td>Ella Enchanted</td>\n",
       "      <td>Kurt, President</td>\n",
       "    </tr>\n",
       "    <tr>\n",
       "      <th>3</th>\n",
       "      <td>C</td>\n",
       "      <td>Louai</td>\n",
       "      <td>Vice President</td>\n",
       "      <td>25</td>\n",
       "      <td>22</td>\n",
       "      <td>Dune</td>\n",
       "      <td>Louai, Vice President</td>\n",
       "    </tr>\n",
       "    <tr>\n",
       "      <th>4</th>\n",
       "      <td>D</td>\n",
       "      <td>Jamie</td>\n",
       "      <td>Events Manager</td>\n",
       "      <td>20</td>\n",
       "      <td>14</td>\n",
       "      <td>Dune</td>\n",
       "      <td>Jamie, Events Manager</td>\n",
       "    </tr>\n",
       "    <tr>\n",
       "      <th>5</th>\n",
       "      <td>E</td>\n",
       "      <td>Yusef</td>\n",
       "      <td>Webmaster</td>\n",
       "      <td>12</td>\n",
       "      <td>6</td>\n",
       "      <td>Homeland</td>\n",
       "      <td>Yusef, Webmaster</td>\n",
       "    </tr>\n",
       "    <tr>\n",
       "      <th>6</th>\n",
       "      <td>F</td>\n",
       "      <td>Cem</td>\n",
       "      <td>Community Manager</td>\n",
       "      <td>-1</td>\n",
       "      <td>-1</td>\n",
       "      <td>Homeland</td>\n",
       "      <td>Cem, Community Manager</td>\n",
       "    </tr>\n",
       "  </tbody>\n",
       "</table>\n",
       "</div>"
      ],
      "text/plain": [
       "  ids  names          positions  ages  how_cool  Favourite Book  \\\n",
       "0   A   Nash          Treasurer    29        22       The Giver   \n",
       "1   A   Nash          Treasurer    29        22       The Giver   \n",
       "2   B   Kurt          President    26        14  Ella Enchanted   \n",
       "3   C  Louai     Vice President    25        22            Dune   \n",
       "4   D  Jamie     Events Manager    20        14            Dune   \n",
       "5   E  Yusef          Webmaster    12         6        Homeland   \n",
       "6   F    Cem  Community Manager    -1        -1        Homeland   \n",
       "\n",
       "                signature  \n",
       "0         Nash, Treasurer  \n",
       "1         Nash, Treasurer  \n",
       "2         Kurt, President  \n",
       "3   Louai, Vice President  \n",
       "4   Jamie, Events Manager  \n",
       "5        Yusef, Webmaster  \n",
       "6  Cem, Community Manager  "
      ]
     },
     "execution_count": 52,
     "metadata": {},
     "output_type": "execute_result"
    }
   ],
   "source": [
    "def change_nash_fav_book_to_giver(name, fav_book):\n",
    "    if name == \"Nash\":\n",
    "        return \"The Giver\"\n",
    "    else:\n",
    "        return fav_book\n",
    "            \n",
    "df['Favourite Book'] = df.apply(lambda x: change_nash_fav_book_to_giver(x['names'], x['Favourite Book']), axis=1)\n",
    "df"
   ]
  },
  {
   "cell_type": "markdown",
   "metadata": {},
   "source": [
    "### Applying an Operation on a Column in a Dataframe Based on a Value in Another Column: Filtering and Selection"
   ]
  },
  {
   "cell_type": "code",
   "execution_count": 53,
   "metadata": {},
   "outputs": [
    {
     "data": {
      "text/html": [
       "<div>\n",
       "<style scoped>\n",
       "    .dataframe tbody tr th:only-of-type {\n",
       "        vertical-align: middle;\n",
       "    }\n",
       "\n",
       "    .dataframe tbody tr th {\n",
       "        vertical-align: top;\n",
       "    }\n",
       "\n",
       "    .dataframe thead th {\n",
       "        text-align: right;\n",
       "    }\n",
       "</style>\n",
       "<table border=\"1\" class=\"dataframe\">\n",
       "  <thead>\n",
       "    <tr style=\"text-align: right;\">\n",
       "      <th></th>\n",
       "      <th>ids</th>\n",
       "      <th>names</th>\n",
       "      <th>positions</th>\n",
       "      <th>ages</th>\n",
       "      <th>how_cool</th>\n",
       "      <th>Favourite Book</th>\n",
       "      <th>signature</th>\n",
       "    </tr>\n",
       "  </thead>\n",
       "  <tbody>\n",
       "    <tr>\n",
       "      <th>0</th>\n",
       "      <td>A</td>\n",
       "      <td>Nash</td>\n",
       "      <td>Treasurer</td>\n",
       "      <td>29</td>\n",
       "      <td>22</td>\n",
       "      <td>Ella Enchanted</td>\n",
       "      <td>Nash, Treasurer</td>\n",
       "    </tr>\n",
       "    <tr>\n",
       "      <th>1</th>\n",
       "      <td>A</td>\n",
       "      <td>Nash</td>\n",
       "      <td>Treasurer</td>\n",
       "      <td>29</td>\n",
       "      <td>22</td>\n",
       "      <td>Ella Enchanted</td>\n",
       "      <td>Nash, Treasurer</td>\n",
       "    </tr>\n",
       "    <tr>\n",
       "      <th>2</th>\n",
       "      <td>B</td>\n",
       "      <td>Kurt</td>\n",
       "      <td>President</td>\n",
       "      <td>26</td>\n",
       "      <td>14</td>\n",
       "      <td>Ella Enchanted</td>\n",
       "      <td>Kurt, President</td>\n",
       "    </tr>\n",
       "    <tr>\n",
       "      <th>3</th>\n",
       "      <td>C</td>\n",
       "      <td>Louai</td>\n",
       "      <td>Vice President</td>\n",
       "      <td>25</td>\n",
       "      <td>22</td>\n",
       "      <td>Dune</td>\n",
       "      <td>Louai, Vice President</td>\n",
       "    </tr>\n",
       "    <tr>\n",
       "      <th>4</th>\n",
       "      <td>D</td>\n",
       "      <td>Jamie</td>\n",
       "      <td>Events Manager</td>\n",
       "      <td>20</td>\n",
       "      <td>14</td>\n",
       "      <td>Dune</td>\n",
       "      <td>Jamie, Events Manager</td>\n",
       "    </tr>\n",
       "    <tr>\n",
       "      <th>5</th>\n",
       "      <td>E</td>\n",
       "      <td>Yusef</td>\n",
       "      <td>Webmaster</td>\n",
       "      <td>12</td>\n",
       "      <td>6</td>\n",
       "      <td>Homeland</td>\n",
       "      <td>Yusef, Webmaster</td>\n",
       "    </tr>\n",
       "    <tr>\n",
       "      <th>6</th>\n",
       "      <td>F</td>\n",
       "      <td>Cem</td>\n",
       "      <td>Community Manager</td>\n",
       "      <td>-1</td>\n",
       "      <td>-1</td>\n",
       "      <td>Homeland</td>\n",
       "      <td>Cem, Community Manager</td>\n",
       "    </tr>\n",
       "  </tbody>\n",
       "</table>\n",
       "</div>"
      ],
      "text/plain": [
       "  ids  names          positions  ages  how_cool  Favourite Book  \\\n",
       "0   A   Nash          Treasurer    29        22  Ella Enchanted   \n",
       "1   A   Nash          Treasurer    29        22  Ella Enchanted   \n",
       "2   B   Kurt          President    26        14  Ella Enchanted   \n",
       "3   C  Louai     Vice President    25        22            Dune   \n",
       "4   D  Jamie     Events Manager    20        14            Dune   \n",
       "5   E  Yusef          Webmaster    12         6        Homeland   \n",
       "6   F    Cem  Community Manager    -1        -1        Homeland   \n",
       "\n",
       "                signature  \n",
       "0         Nash, Treasurer  \n",
       "1         Nash, Treasurer  \n",
       "2         Kurt, President  \n",
       "3   Louai, Vice President  \n",
       "4   Jamie, Events Manager  \n",
       "5        Yusef, Webmaster  \n",
       "6  Cem, Community Manager  "
      ]
     },
     "execution_count": 53,
     "metadata": {},
     "output_type": "execute_result"
    }
   ],
   "source": [
    "df.loc[df['names'] == \"Nash\", 'Favourite Book'] = \"Ella Enchanted\"\n",
    "df"
   ]
  },
  {
   "cell_type": "markdown",
   "metadata": {},
   "source": [
    "### Data Aggregation: How Many ISSession Executives Like a Certain Book? Which Ones? What is their Average Age? What is their Average coolness?"
   ]
  },
  {
   "cell_type": "code",
   "execution_count": 54,
   "metadata": {},
   "outputs": [
    {
     "data": {
      "text/html": [
       "<div>\n",
       "<style scoped>\n",
       "    .dataframe tbody tr th:only-of-type {\n",
       "        vertical-align: middle;\n",
       "    }\n",
       "\n",
       "    .dataframe tbody tr th {\n",
       "        vertical-align: top;\n",
       "    }\n",
       "\n",
       "    .dataframe thead th {\n",
       "        text-align: right;\n",
       "    }\n",
       "</style>\n",
       "<table border=\"1\" class=\"dataframe\">\n",
       "  <thead>\n",
       "    <tr style=\"text-align: right;\">\n",
       "      <th></th>\n",
       "      <th>name_count</th>\n",
       "      <th>name_list</th>\n",
       "      <th>average_age</th>\n",
       "      <th>average_coolness</th>\n",
       "    </tr>\n",
       "    <tr>\n",
       "      <th>Favourite Book</th>\n",
       "      <th></th>\n",
       "      <th></th>\n",
       "      <th></th>\n",
       "      <th></th>\n",
       "    </tr>\n",
       "  </thead>\n",
       "  <tbody>\n",
       "    <tr>\n",
       "      <th>Dune</th>\n",
       "      <td>2</td>\n",
       "      <td>Louai,Jamie</td>\n",
       "      <td>22.5</td>\n",
       "      <td>18.000000</td>\n",
       "    </tr>\n",
       "    <tr>\n",
       "      <th>Ella Enchanted</th>\n",
       "      <td>3</td>\n",
       "      <td>Nash,Kurt</td>\n",
       "      <td>28.0</td>\n",
       "      <td>19.333333</td>\n",
       "    </tr>\n",
       "    <tr>\n",
       "      <th>Homeland</th>\n",
       "      <td>2</td>\n",
       "      <td>Yusef,Cem</td>\n",
       "      <td>12.0</td>\n",
       "      <td>6.000000</td>\n",
       "    </tr>\n",
       "  </tbody>\n",
       "</table>\n",
       "</div>"
      ],
      "text/plain": [
       "                name_count    name_list  average_age  average_coolness\n",
       "Favourite Book                                                        \n",
       "Dune                     2  Louai,Jamie         22.5         18.000000\n",
       "Ella Enchanted           3    Nash,Kurt         28.0         19.333333\n",
       "Homeland                 2    Yusef,Cem         12.0          6.000000"
      ]
     },
     "execution_count": 54,
     "metadata": {},
     "output_type": "execute_result"
    }
   ],
   "source": [
    "df = df.replace(-1, np.nan) # Replace -1 with NaN because aggregation operation will typically ignore NaNs\n",
    "\n",
    "def calc_average_age(col):\n",
    "    return col.sum() / col.count()\n",
    "\n",
    "aggregated_data = df.groupby(['Favourite Book']).agg(\n",
    "          name_count=('names', 'count'), # Builtin \n",
    "          name_list=('names', lambda x: \",\".join(x.unique())), # Lambda Custom Operation\n",
    "          average_age=('ages', calc_average_age), # Custom Function\n",
    "          average_coolness=('how_cool', 'mean') # Builtin\n",
    "        )\n",
    "\n",
    "aggregated_data"
   ]
  },
  {
   "cell_type": "markdown",
   "metadata": {},
   "source": [
    "### Data Sorting: Sort By Name Count *Then* Avergae coolness "
   ]
  },
  {
   "cell_type": "code",
   "execution_count": 55,
   "metadata": {},
   "outputs": [
    {
     "data": {
      "text/html": [
       "<div>\n",
       "<style scoped>\n",
       "    .dataframe tbody tr th:only-of-type {\n",
       "        vertical-align: middle;\n",
       "    }\n",
       "\n",
       "    .dataframe tbody tr th {\n",
       "        vertical-align: top;\n",
       "    }\n",
       "\n",
       "    .dataframe thead th {\n",
       "        text-align: right;\n",
       "    }\n",
       "</style>\n",
       "<table border=\"1\" class=\"dataframe\">\n",
       "  <thead>\n",
       "    <tr style=\"text-align: right;\">\n",
       "      <th></th>\n",
       "      <th>name_count</th>\n",
       "      <th>name_list</th>\n",
       "      <th>average_age</th>\n",
       "      <th>average_coolness</th>\n",
       "    </tr>\n",
       "    <tr>\n",
       "      <th>Favourite Book</th>\n",
       "      <th></th>\n",
       "      <th></th>\n",
       "      <th></th>\n",
       "      <th></th>\n",
       "    </tr>\n",
       "  </thead>\n",
       "  <tbody>\n",
       "    <tr>\n",
       "      <th>Ella Enchanted</th>\n",
       "      <td>3</td>\n",
       "      <td>Nash,Kurt</td>\n",
       "      <td>28.0</td>\n",
       "      <td>19.333333</td>\n",
       "    </tr>\n",
       "    <tr>\n",
       "      <th>Dune</th>\n",
       "      <td>2</td>\n",
       "      <td>Louai,Jamie</td>\n",
       "      <td>22.5</td>\n",
       "      <td>18.000000</td>\n",
       "    </tr>\n",
       "    <tr>\n",
       "      <th>Homeland</th>\n",
       "      <td>2</td>\n",
       "      <td>Yusef,Cem</td>\n",
       "      <td>12.0</td>\n",
       "      <td>6.000000</td>\n",
       "    </tr>\n",
       "  </tbody>\n",
       "</table>\n",
       "</div>"
      ],
      "text/plain": [
       "                name_count    name_list  average_age  average_coolness\n",
       "Favourite Book                                                        \n",
       "Ella Enchanted           3    Nash,Kurt         28.0         19.333333\n",
       "Dune                     2  Louai,Jamie         22.5         18.000000\n",
       "Homeland                 2    Yusef,Cem         12.0          6.000000"
      ]
     },
     "execution_count": 55,
     "metadata": {},
     "output_type": "execute_result"
    }
   ],
   "source": [
    "aggregated_data.sort_values(['name_count', 'average_coolness'], ascending=False)"
   ]
  },
  {
   "cell_type": "markdown",
   "metadata": {},
   "source": [
    "### Querying a Dataframe's Memory Consumption"
   ]
  },
  {
   "cell_type": "code",
   "execution_count": 56,
   "metadata": {},
   "outputs": [
    {
     "data": {
      "text/plain": [
       "Index             376\n",
       "ids               406\n",
       "names             429\n",
       "positions         480\n",
       "ages               56\n",
       "how_cool           56\n",
       "Favourite Book    465\n",
       "signature         524\n",
       "dtype: int64"
      ]
     },
     "execution_count": 56,
     "metadata": {},
     "output_type": "execute_result"
    }
   ],
   "source": [
    "df.memory_usage(deep=True) # Memory Usage by Column in Bytes"
   ]
  },
  {
   "cell_type": "markdown",
   "metadata": {},
   "source": [
    "----------------------------------------------\n",
    "### Exercise: Answer the Following Questions Based on the Data Provided\n",
    "- Question #1: Produce a dataframe that lists all destination_ips that sent out more than 500 bytes or were contacted by source_ip 10.10.99.11? Sort by bytes_out in descending order.\n",
    "- Question #2: Produce a dataframe that the describes the total and the average number of bytes each user sent out across all sessions? Sort by bytes_out in descending order.\n",
    "- Question #3: You realize that a hardware error caused all sessions with a source ip of 10.10.99.11 caused all \"bytes_in\" values to be cut by half (4000 -> 2000). Can you fix the problem? \n",
    "- *Extra*: Produce a dataframe that describes the total number of bytes (in and out) by user and source ip. Sort by total bytes in descending order."
   ]
  },
  {
   "cell_type": "code",
   "execution_count": 57,
   "metadata": {},
   "outputs": [
    {
     "data": {
      "text/html": [
       "<div>\n",
       "<style scoped>\n",
       "    .dataframe tbody tr th:only-of-type {\n",
       "        vertical-align: middle;\n",
       "    }\n",
       "\n",
       "    .dataframe tbody tr th {\n",
       "        vertical-align: top;\n",
       "    }\n",
       "\n",
       "    .dataframe thead th {\n",
       "        text-align: right;\n",
       "    }\n",
       "</style>\n",
       "<table border=\"1\" class=\"dataframe\">\n",
       "  <thead>\n",
       "    <tr style=\"text-align: right;\">\n",
       "      <th></th>\n",
       "      <th>session_id</th>\n",
       "      <th>user</th>\n",
       "      <th>source_ip</th>\n",
       "      <th>destination_ip</th>\n",
       "      <th>bytes_in</th>\n",
       "      <th>bytes_out</th>\n",
       "    </tr>\n",
       "  </thead>\n",
       "  <tbody>\n",
       "    <tr>\n",
       "      <th>0</th>\n",
       "      <td>A</td>\n",
       "      <td>Thrall</td>\n",
       "      <td>10.10.99.6</td>\n",
       "      <td>142.3.3.3</td>\n",
       "      <td>452</td>\n",
       "      <td>4564</td>\n",
       "    </tr>\n",
       "    <tr>\n",
       "      <th>1</th>\n",
       "      <td>B</td>\n",
       "      <td>Jaina Proudmoore</td>\n",
       "      <td>10.10.99.11</td>\n",
       "      <td>142.3.3.3</td>\n",
       "      <td>500</td>\n",
       "      <td>232</td>\n",
       "    </tr>\n",
       "    <tr>\n",
       "      <th>2</th>\n",
       "      <td>C</td>\n",
       "      <td>Illidan Stormrage</td>\n",
       "      <td>10.10.99.6</td>\n",
       "      <td>142.3.4.5</td>\n",
       "      <td>25</td>\n",
       "      <td>11</td>\n",
       "    </tr>\n",
       "    <tr>\n",
       "      <th>3</th>\n",
       "      <td>D</td>\n",
       "      <td>Thrall</td>\n",
       "      <td>10.10.99.11</td>\n",
       "      <td>142.3.4.5</td>\n",
       "      <td>4535</td>\n",
       "      <td>443</td>\n",
       "    </tr>\n",
       "    <tr>\n",
       "      <th>4</th>\n",
       "      <td>E</td>\n",
       "      <td>Jaina Proudmoore</td>\n",
       "      <td>10.10.99.5</td>\n",
       "      <td>142.3.4.5</td>\n",
       "      <td>12</td>\n",
       "      <td>5345</td>\n",
       "    </tr>\n",
       "    <tr>\n",
       "      <th>5</th>\n",
       "      <td>F</td>\n",
       "      <td>Illidan Stormrage</td>\n",
       "      <td>10.10.99.11</td>\n",
       "      <td>142.3.3.3</td>\n",
       "      <td>3423</td>\n",
       "      <td>45353</td>\n",
       "    </tr>\n",
       "  </tbody>\n",
       "</table>\n",
       "</div>"
      ],
      "text/plain": [
       "  session_id               user    source_ip destination_ip  bytes_in  \\\n",
       "0          A             Thrall   10.10.99.6      142.3.3.3       452   \n",
       "1          B   Jaina Proudmoore  10.10.99.11      142.3.3.3       500   \n",
       "2          C  Illidan Stormrage   10.10.99.6      142.3.4.5        25   \n",
       "3          D             Thrall  10.10.99.11      142.3.4.5      4535   \n",
       "4          E   Jaina Proudmoore   10.10.99.5      142.3.4.5        12   \n",
       "5          F  Illidan Stormrage  10.10.99.11      142.3.3.3      3423   \n",
       "\n",
       "   bytes_out  \n",
       "0       4564  \n",
       "1        232  \n",
       "2         11  \n",
       "3        443  \n",
       "4       5345  \n",
       "5      45353  "
      ]
     },
     "execution_count": 57,
     "metadata": {},
     "output_type": "execute_result"
    }
   ],
   "source": [
    "session_data = [\n",
    "    {\"session_id\": \"A\", \"user\": \"Thrall\", \"source_ip\": \"10.10.99.6\", \"destination_ip\": \"142.3.3.3\", \"bytes_in\": 452, \"bytes_out\": 4564},\n",
    "    {\"session_id\": \"B\", \"user\": \"Jaina Proudmoore\", \"source_ip\": \"10.10.99.11\", \"destination_ip\": \"142.3.3.3\", \"bytes_in\": 500, \"bytes_out\": 232}, \n",
    "    {\"session_id\": \"C\", \"user\": \"Illidan Stormrage\", \"source_ip\": \"10.10.99.6\", \"destination_ip\": \"142.3.4.5\", \"bytes_in\": 25, \"bytes_out\": 11}, \n",
    "    {\"session_id\": \"D\", \"user\": \"Thrall\", \"source_ip\": \"10.10.99.11\", \"destination_ip\": \"142.3.4.5\", \"bytes_in\": 4535, \"bytes_out\": 443}, \n",
    "    {\"session_id\": \"E\", \"user\": \"Jaina Proudmoore\", \"source_ip\": \"10.10.99.5\", \"destination_ip\": \"142.3.4.5\", \"bytes_in\": 12, \"bytes_out\": 5345}, \n",
    "    {\"session_id\": \"F\", \"user\": \"Illidan Stormrage\", \"source_ip\": \"10.10.99.11\", \"destination_ip\": \"142.3.3.3\", \"bytes_in\": 3423, \"bytes_out\": 45353}\n",
    "]\n",
    "\n",
    "# Make a Dataframe\n",
    "sessions_df = pd.DataFrame(session_data)\n",
    "sessions_df"
   ]
  },
  {
   "cell_type": "markdown",
   "metadata": {},
   "source": [
    "### Question #1: Produce a dataframe that lists all destination_ips that sent out more than 500 bytes or were contacted by source_ip 10.10.99.11? Sort by bytes_out in descending order."
   ]
  },
  {
   "cell_type": "code",
   "execution_count": 58,
   "metadata": {},
   "outputs": [
    {
     "data": {
      "text/html": [
       "<div>\n",
       "<style scoped>\n",
       "    .dataframe tbody tr th:only-of-type {\n",
       "        vertical-align: middle;\n",
       "    }\n",
       "\n",
       "    .dataframe tbody tr th {\n",
       "        vertical-align: top;\n",
       "    }\n",
       "\n",
       "    .dataframe thead th {\n",
       "        text-align: right;\n",
       "    }\n",
       "</style>\n",
       "<table border=\"1\" class=\"dataframe\">\n",
       "  <thead>\n",
       "    <tr style=\"text-align: right;\">\n",
       "      <th></th>\n",
       "      <th>user</th>\n",
       "      <th>source_ip</th>\n",
       "      <th>destination_ip</th>\n",
       "      <th>bytes_in</th>\n",
       "      <th>bytes_out</th>\n",
       "    </tr>\n",
       "    <tr>\n",
       "      <th>session_id</th>\n",
       "      <th></th>\n",
       "      <th></th>\n",
       "      <th></th>\n",
       "      <th></th>\n",
       "      <th></th>\n",
       "    </tr>\n",
       "  </thead>\n",
       "  <tbody>\n",
       "    <tr>\n",
       "      <th>F</th>\n",
       "      <td>Illidan Stormrage</td>\n",
       "      <td>10.10.99.11</td>\n",
       "      <td>142.3.3.3</td>\n",
       "      <td>3423</td>\n",
       "      <td>45353</td>\n",
       "    </tr>\n",
       "    <tr>\n",
       "      <th>E</th>\n",
       "      <td>Jaina Proudmoore</td>\n",
       "      <td>10.10.99.5</td>\n",
       "      <td>142.3.4.5</td>\n",
       "      <td>12</td>\n",
       "      <td>5345</td>\n",
       "    </tr>\n",
       "    <tr>\n",
       "      <th>A</th>\n",
       "      <td>Thrall</td>\n",
       "      <td>10.10.99.6</td>\n",
       "      <td>142.3.3.3</td>\n",
       "      <td>452</td>\n",
       "      <td>4564</td>\n",
       "    </tr>\n",
       "    <tr>\n",
       "      <th>D</th>\n",
       "      <td>Thrall</td>\n",
       "      <td>10.10.99.11</td>\n",
       "      <td>142.3.4.5</td>\n",
       "      <td>4535</td>\n",
       "      <td>443</td>\n",
       "    </tr>\n",
       "    <tr>\n",
       "      <th>B</th>\n",
       "      <td>Jaina Proudmoore</td>\n",
       "      <td>10.10.99.11</td>\n",
       "      <td>142.3.3.3</td>\n",
       "      <td>500</td>\n",
       "      <td>232</td>\n",
       "    </tr>\n",
       "  </tbody>\n",
       "</table>\n",
       "</div>"
      ],
      "text/plain": [
       "                         user    source_ip destination_ip  bytes_in  bytes_out\n",
       "session_id                                                                    \n",
       "F           Illidan Stormrage  10.10.99.11      142.3.3.3      3423      45353\n",
       "E            Jaina Proudmoore   10.10.99.5      142.3.4.5        12       5345\n",
       "A                      Thrall   10.10.99.6      142.3.3.3       452       4564\n",
       "D                      Thrall  10.10.99.11      142.3.4.5      4535        443\n",
       "B            Jaina Proudmoore  10.10.99.11      142.3.3.3       500        232"
      ]
     },
     "execution_count": 58,
     "metadata": {},
     "output_type": "execute_result"
    }
   ],
   "source": [
    "sessions_df[(sessions_df['source_ip'] == \"10.10.99.11\") | (sessions_df['bytes_out'] > 500)] \\\n",
    "    .sort_values(['bytes_out'], ascending=False) \\\n",
    "    .set_index(['session_id'])"
   ]
  },
  {
   "cell_type": "markdown",
   "metadata": {},
   "source": [
    "### Question #2: Produce a dataframe that the describes the total and the average number of bytes each user sent out across all sessions? Sort by bytes_out in descending order."
   ]
  },
  {
   "cell_type": "code",
   "execution_count": 59,
   "metadata": {},
   "outputs": [
    {
     "data": {
      "text/html": [
       "<div>\n",
       "<style scoped>\n",
       "    .dataframe tbody tr th:only-of-type {\n",
       "        vertical-align: middle;\n",
       "    }\n",
       "\n",
       "    .dataframe tbody tr th {\n",
       "        vertical-align: top;\n",
       "    }\n",
       "\n",
       "    .dataframe thead th {\n",
       "        text-align: right;\n",
       "    }\n",
       "</style>\n",
       "<table border=\"1\" class=\"dataframe\">\n",
       "  <thead>\n",
       "    <tr style=\"text-align: right;\">\n",
       "      <th></th>\n",
       "      <th>total_bytes_out</th>\n",
       "      <th>avg_bytes_out</th>\n",
       "    </tr>\n",
       "    <tr>\n",
       "      <th>user</th>\n",
       "      <th></th>\n",
       "      <th></th>\n",
       "    </tr>\n",
       "  </thead>\n",
       "  <tbody>\n",
       "    <tr>\n",
       "      <th>Illidan Stormrage</th>\n",
       "      <td>45364</td>\n",
       "      <td>22682.0</td>\n",
       "    </tr>\n",
       "    <tr>\n",
       "      <th>Jaina Proudmoore</th>\n",
       "      <td>5577</td>\n",
       "      <td>2788.5</td>\n",
       "    </tr>\n",
       "    <tr>\n",
       "      <th>Thrall</th>\n",
       "      <td>5007</td>\n",
       "      <td>2503.5</td>\n",
       "    </tr>\n",
       "  </tbody>\n",
       "</table>\n",
       "</div>"
      ],
      "text/plain": [
       "                   total_bytes_out  avg_bytes_out\n",
       "user                                             \n",
       "Illidan Stormrage            45364        22682.0\n",
       "Jaina Proudmoore              5577         2788.5\n",
       "Thrall                        5007         2503.5"
      ]
     },
     "execution_count": 59,
     "metadata": {},
     "output_type": "execute_result"
    }
   ],
   "source": [
    "sessions_df.groupby(['user']).agg(\n",
    "    total_bytes_out=('bytes_out', 'sum'),\n",
    "    avg_bytes_out=('bytes_out', 'mean')\n",
    ")"
   ]
  },
  {
   "cell_type": "markdown",
   "metadata": {},
   "source": [
    "### Question #3: You realize that a hardware error caused all sessions with a source ip of 10.10.99.11 caused all \"bytes_in\" values to be cut by half (4000 -> 2000). Can you fix the problem?"
   ]
  },
  {
   "cell_type": "code",
   "execution_count": 60,
   "metadata": {},
   "outputs": [
    {
     "data": {
      "text/html": [
       "<div>\n",
       "<style scoped>\n",
       "    .dataframe tbody tr th:only-of-type {\n",
       "        vertical-align: middle;\n",
       "    }\n",
       "\n",
       "    .dataframe tbody tr th {\n",
       "        vertical-align: top;\n",
       "    }\n",
       "\n",
       "    .dataframe thead th {\n",
       "        text-align: right;\n",
       "    }\n",
       "</style>\n",
       "<table border=\"1\" class=\"dataframe\">\n",
       "  <thead>\n",
       "    <tr style=\"text-align: right;\">\n",
       "      <th></th>\n",
       "      <th>session_id</th>\n",
       "      <th>user</th>\n",
       "      <th>source_ip</th>\n",
       "      <th>destination_ip</th>\n",
       "      <th>bytes_in</th>\n",
       "      <th>bytes_out</th>\n",
       "    </tr>\n",
       "  </thead>\n",
       "  <tbody>\n",
       "    <tr>\n",
       "      <th>0</th>\n",
       "      <td>A</td>\n",
       "      <td>Thrall</td>\n",
       "      <td>10.10.99.6</td>\n",
       "      <td>142.3.3.3</td>\n",
       "      <td>452</td>\n",
       "      <td>4564</td>\n",
       "    </tr>\n",
       "    <tr>\n",
       "      <th>1</th>\n",
       "      <td>B</td>\n",
       "      <td>Jaina Proudmoore</td>\n",
       "      <td>10.10.99.11</td>\n",
       "      <td>142.3.3.3</td>\n",
       "      <td>1000</td>\n",
       "      <td>232</td>\n",
       "    </tr>\n",
       "    <tr>\n",
       "      <th>2</th>\n",
       "      <td>C</td>\n",
       "      <td>Illidan Stormrage</td>\n",
       "      <td>10.10.99.6</td>\n",
       "      <td>142.3.4.5</td>\n",
       "      <td>25</td>\n",
       "      <td>11</td>\n",
       "    </tr>\n",
       "    <tr>\n",
       "      <th>3</th>\n",
       "      <td>D</td>\n",
       "      <td>Thrall</td>\n",
       "      <td>10.10.99.11</td>\n",
       "      <td>142.3.4.5</td>\n",
       "      <td>9070</td>\n",
       "      <td>443</td>\n",
       "    </tr>\n",
       "    <tr>\n",
       "      <th>4</th>\n",
       "      <td>E</td>\n",
       "      <td>Jaina Proudmoore</td>\n",
       "      <td>10.10.99.5</td>\n",
       "      <td>142.3.4.5</td>\n",
       "      <td>12</td>\n",
       "      <td>5345</td>\n",
       "    </tr>\n",
       "    <tr>\n",
       "      <th>5</th>\n",
       "      <td>F</td>\n",
       "      <td>Illidan Stormrage</td>\n",
       "      <td>10.10.99.11</td>\n",
       "      <td>142.3.3.3</td>\n",
       "      <td>6846</td>\n",
       "      <td>45353</td>\n",
       "    </tr>\n",
       "  </tbody>\n",
       "</table>\n",
       "</div>"
      ],
      "text/plain": [
       "  session_id               user    source_ip destination_ip  bytes_in  \\\n",
       "0          A             Thrall   10.10.99.6      142.3.3.3       452   \n",
       "1          B   Jaina Proudmoore  10.10.99.11      142.3.3.3      1000   \n",
       "2          C  Illidan Stormrage   10.10.99.6      142.3.4.5        25   \n",
       "3          D             Thrall  10.10.99.11      142.3.4.5      9070   \n",
       "4          E   Jaina Proudmoore   10.10.99.5      142.3.4.5        12   \n",
       "5          F  Illidan Stormrage  10.10.99.11      142.3.3.3      6846   \n",
       "\n",
       "   bytes_out  \n",
       "0       4564  \n",
       "1        232  \n",
       "2         11  \n",
       "3        443  \n",
       "4       5345  \n",
       "5      45353  "
      ]
     },
     "execution_count": 60,
     "metadata": {},
     "output_type": "execute_result"
    }
   ],
   "source": [
    "sessions_df['bytes_in'] = [bytes_in * 2 if source_ip == \"10.10.99.11\" else bytes_in for source_ip, bytes_in in zip(sessions_df['source_ip'], sessions_df['bytes_in'])]\n",
    "sessions_df"
   ]
  },
  {
   "cell_type": "markdown",
   "metadata": {},
   "source": [
    "### Extra: Produce a dataframe that describes the total number of bytes (in and out) by user and source ip. Sort by total bytes in descending order."
   ]
  },
  {
   "cell_type": "code",
   "execution_count": 61,
   "metadata": {},
   "outputs": [
    {
     "data": {
      "text/html": [
       "<div>\n",
       "<style scoped>\n",
       "    .dataframe tbody tr th:only-of-type {\n",
       "        vertical-align: middle;\n",
       "    }\n",
       "\n",
       "    .dataframe tbody tr th {\n",
       "        vertical-align: top;\n",
       "    }\n",
       "\n",
       "    .dataframe thead th {\n",
       "        text-align: right;\n",
       "    }\n",
       "</style>\n",
       "<table border=\"1\" class=\"dataframe\">\n",
       "  <thead>\n",
       "    <tr style=\"text-align: right;\">\n",
       "      <th></th>\n",
       "      <th></th>\n",
       "      <th>bytes_tot_by_user_and_ip</th>\n",
       "    </tr>\n",
       "    <tr>\n",
       "      <th>user</th>\n",
       "      <th>source_ip</th>\n",
       "      <th></th>\n",
       "    </tr>\n",
       "  </thead>\n",
       "  <tbody>\n",
       "    <tr>\n",
       "      <th>Illidan Stormrage</th>\n",
       "      <th>10.10.99.11</th>\n",
       "      <td>52199</td>\n",
       "    </tr>\n",
       "    <tr>\n",
       "      <th>Thrall</th>\n",
       "      <th>10.10.99.11</th>\n",
       "      <td>9513</td>\n",
       "    </tr>\n",
       "    <tr>\n",
       "      <th>Jaina Proudmoore</th>\n",
       "      <th>10.10.99.5</th>\n",
       "      <td>5357</td>\n",
       "    </tr>\n",
       "    <tr>\n",
       "      <th>Thrall</th>\n",
       "      <th>10.10.99.6</th>\n",
       "      <td>5016</td>\n",
       "    </tr>\n",
       "    <tr>\n",
       "      <th>Jaina Proudmoore</th>\n",
       "      <th>10.10.99.11</th>\n",
       "      <td>1232</td>\n",
       "    </tr>\n",
       "    <tr>\n",
       "      <th>Illidan Stormrage</th>\n",
       "      <th>10.10.99.6</th>\n",
       "      <td>36</td>\n",
       "    </tr>\n",
       "  </tbody>\n",
       "</table>\n",
       "</div>"
      ],
      "text/plain": [
       "                               bytes_tot_by_user_and_ip\n",
       "user              source_ip                            \n",
       "Illidan Stormrage 10.10.99.11                     52199\n",
       "Thrall            10.10.99.11                      9513\n",
       "Jaina Proudmoore  10.10.99.5                       5357\n",
       "Thrall            10.10.99.6                       5016\n",
       "Jaina Proudmoore  10.10.99.11                      1232\n",
       "Illidan Stormrage 10.10.99.6                         36"
      ]
     },
     "execution_count": 61,
     "metadata": {},
     "output_type": "execute_result"
    }
   ],
   "source": [
    "sessions_df['bytes_total'] = sessions_df['bytes_in'] + sessions_df['bytes_out']\n",
    "sessions_df.groupby(['user', 'source_ip']) \\\n",
    "           .agg(bytes_tot_by_user_and_ip=('bytes_total', 'sum')) \\\n",
    "           .sort_values(['bytes_tot_by_user_and_ip'], ascending=False)"
   ]
  },
  {
   "cell_type": "markdown",
   "metadata": {},
   "source": [
    "-----------------------------------------------"
   ]
  },
  {
   "cell_type": "markdown",
   "metadata": {},
   "source": [
    "## **Part #4: Data Correlation (Key-Based)**"
   ]
  },
  {
   "cell_type": "code",
   "execution_count": 62,
   "metadata": {},
   "outputs": [
    {
     "data": {
      "text/html": [
       "<div>\n",
       "<style scoped>\n",
       "    .dataframe tbody tr th:only-of-type {\n",
       "        vertical-align: middle;\n",
       "    }\n",
       "\n",
       "    .dataframe tbody tr th {\n",
       "        vertical-align: top;\n",
       "    }\n",
       "\n",
       "    .dataframe thead th {\n",
       "        text-align: right;\n",
       "    }\n",
       "</style>\n",
       "<table border=\"1\" class=\"dataframe\">\n",
       "  <thead>\n",
       "    <tr style=\"text-align: right;\">\n",
       "      <th></th>\n",
       "      <th>connection_id</th>\n",
       "      <th>source_ip</th>\n",
       "      <th>destination_ip</th>\n",
       "      <th>source_port</th>\n",
       "      <th>destination_port</th>\n",
       "      <th>process_id</th>\n",
       "    </tr>\n",
       "  </thead>\n",
       "  <tbody>\n",
       "    <tr>\n",
       "      <th>0</th>\n",
       "      <td>A</td>\n",
       "      <td>10.10.99.6</td>\n",
       "      <td>142.3.3.3</td>\n",
       "      <td>56444</td>\n",
       "      <td>22</td>\n",
       "      <td>ABC</td>\n",
       "    </tr>\n",
       "    <tr>\n",
       "      <th>1</th>\n",
       "      <td>B</td>\n",
       "      <td>10.10.99.11</td>\n",
       "      <td>142.3.3.3</td>\n",
       "      <td>12789</td>\n",
       "      <td>25</td>\n",
       "      <td>DEF</td>\n",
       "    </tr>\n",
       "    <tr>\n",
       "      <th>2</th>\n",
       "      <td>C</td>\n",
       "      <td>10.10.99.6</td>\n",
       "      <td>142.3.4.5</td>\n",
       "      <td>32333</td>\n",
       "      <td>443</td>\n",
       "      <td>ABC</td>\n",
       "    </tr>\n",
       "    <tr>\n",
       "      <th>3</th>\n",
       "      <td>D</td>\n",
       "      <td>10.10.99.11</td>\n",
       "      <td>142.3.4.5</td>\n",
       "      <td>5645</td>\n",
       "      <td>4444</td>\n",
       "      <td>DEF</td>\n",
       "    </tr>\n",
       "    <tr>\n",
       "      <th>4</th>\n",
       "      <td>E</td>\n",
       "      <td>10.10.99.6</td>\n",
       "      <td>142.3.4.5</td>\n",
       "      <td>3425</td>\n",
       "      <td>80</td>\n",
       "      <td>ABC</td>\n",
       "    </tr>\n",
       "    <tr>\n",
       "      <th>5</th>\n",
       "      <td>F</td>\n",
       "      <td>10.10.99.11</td>\n",
       "      <td>142.3.3.3</td>\n",
       "      <td>3423</td>\n",
       "      <td>443</td>\n",
       "      <td>DEF</td>\n",
       "    </tr>\n",
       "  </tbody>\n",
       "</table>\n",
       "</div>"
      ],
      "text/plain": [
       "  connection_id    source_ip destination_ip  source_port  destination_port  \\\n",
       "0             A   10.10.99.6      142.3.3.3        56444                22   \n",
       "1             B  10.10.99.11      142.3.3.3        12789                25   \n",
       "2             C   10.10.99.6      142.3.4.5        32333               443   \n",
       "3             D  10.10.99.11      142.3.4.5         5645              4444   \n",
       "4             E   10.10.99.6      142.3.4.5         3425                80   \n",
       "5             F  10.10.99.11      142.3.3.3         3423               443   \n",
       "\n",
       "  process_id  \n",
       "0        ABC  \n",
       "1        DEF  \n",
       "2        ABC  \n",
       "3        DEF  \n",
       "4        ABC  \n",
       "5        DEF  "
      ]
     },
     "execution_count": 62,
     "metadata": {},
     "output_type": "execute_result"
    }
   ],
   "source": [
    "network_connection_data = [\n",
    "    {\"connection_id\": \"A\", \"source_ip\": \"10.10.99.6\", \"destination_ip\": \"142.3.3.3\", \"source_port\": 56444, \"destination_port\": 22, \"process_id\": \"ABC\"},\n",
    "    {\"connection_id\": \"B\", \"source_ip\": \"10.10.99.11\", \"destination_ip\": \"142.3.3.3\", \"source_port\": 12789, \"destination_port\": 25, \"process_id\": \"DEF\"}, \n",
    "    {\"connection_id\": \"C\", \"source_ip\": \"10.10.99.6\", \"destination_ip\": \"142.3.4.5\", \"source_port\": 32333, \"destination_port\": 443, \"process_id\": \"ABC\"}, \n",
    "    {\"connection_id\": \"D\", \"source_ip\": \"10.10.99.11\", \"destination_ip\": \"142.3.4.5\", \"source_port\": 5645, \"destination_port\": 4444, \"process_id\": \"DEF\"}, # IOC\n",
    "    {\"connection_id\": \"E\", \"source_ip\": \"10.10.99.6\", \"destination_ip\": \"142.3.4.5\", \"source_port\": 3425, \"destination_port\": 80, \"process_id\": \"ABC\"}, \n",
    "    {\"connection_id\": \"F\", \"source_ip\": \"10.10.99.11\", \"destination_ip\": \"142.3.3.3\", \"source_port\": 3423, \"destination_port\": 443, \"process_id\": \"DEF\"}\n",
    "]\n",
    "\n",
    "network_connection_df = pd.DataFrame(network_connection_data)\n",
    "network_connection_df"
   ]
  },
  {
   "cell_type": "code",
   "execution_count": 63,
   "metadata": {},
   "outputs": [
    {
     "data": {
      "text/html": [
       "<div>\n",
       "<style scoped>\n",
       "    .dataframe tbody tr th:only-of-type {\n",
       "        vertical-align: middle;\n",
       "    }\n",
       "\n",
       "    .dataframe tbody tr th {\n",
       "        vertical-align: top;\n",
       "    }\n",
       "\n",
       "    .dataframe thead th {\n",
       "        text-align: right;\n",
       "    }\n",
       "</style>\n",
       "<table border=\"1\" class=\"dataframe\">\n",
       "  <thead>\n",
       "    <tr style=\"text-align: right;\">\n",
       "      <th></th>\n",
       "      <th>process_id</th>\n",
       "      <th>process_name</th>\n",
       "      <th>process_commandline</th>\n",
       "    </tr>\n",
       "  </thead>\n",
       "  <tbody>\n",
       "    <tr>\n",
       "      <th>0</th>\n",
       "      <td>ABC</td>\n",
       "      <td>WindowsTerminal.exe</td>\n",
       "      <td>WindowsTerminal.exe</td>\n",
       "    </tr>\n",
       "    <tr>\n",
       "      <th>1</th>\n",
       "      <td>DEF</td>\n",
       "      <td>Slackk.exe</td>\n",
       "      <td>Slackk.exe -e cmd.exe</td>\n",
       "    </tr>\n",
       "    <tr>\n",
       "      <th>2</th>\n",
       "      <td>DEF</td>\n",
       "      <td>Slackk.exe</td>\n",
       "      <td>Slackk.exe -exf nothing_suspicious_here.zip</td>\n",
       "    </tr>\n",
       "    <tr>\n",
       "      <th>3</th>\n",
       "      <td>GHI</td>\n",
       "      <td>powershell.exe</td>\n",
       "      <td>powershell.exe -command 'Get-Process'</td>\n",
       "    </tr>\n",
       "  </tbody>\n",
       "</table>\n",
       "</div>"
      ],
      "text/plain": [
       "  process_id         process_name                          process_commandline\n",
       "0        ABC  WindowsTerminal.exe                          WindowsTerminal.exe\n",
       "1        DEF           Slackk.exe                        Slackk.exe -e cmd.exe\n",
       "2        DEF           Slackk.exe  Slackk.exe -exf nothing_suspicious_here.zip\n",
       "3        GHI       powershell.exe        powershell.exe -command 'Get-Process'"
      ]
     },
     "execution_count": 63,
     "metadata": {},
     "output_type": "execute_result"
    }
   ],
   "source": [
    "process_data = [\n",
    "    {\"process_id\": \"ABC\", \"process_name\": \"WindowsTerminal.exe\", \"process_commandline\": \"WindowsTerminal.exe\"},\n",
    "    {\"process_id\": \"DEF\", \"process_name\": \"Slackk.exe\", \"process_commandline\": \"Slackk.exe -e cmd.exe\"}, # Launching a Shell \n",
    "    {\"process_id\": \"DEF\", \"process_name\": \"Slackk.exe\", \"process_commandline\": \"Slackk.exe -exf nothing_suspicious_here.zip\"},\n",
    "    {\"process_id\": \"GHI\", \"process_name\": \"powershell.exe\", \"process_commandline\": \"powershell.exe -command 'Get-Process'\"}\n",
    "]\n",
    "\n",
    "process_data_df = pd.DataFrame(process_data)\n",
    "process_data_df"
   ]
  },
  {
   "cell_type": "code",
   "execution_count": 64,
   "metadata": {},
   "outputs": [
    {
     "data": {
      "text/html": [
       "<div>\n",
       "<style scoped>\n",
       "    .dataframe tbody tr th:only-of-type {\n",
       "        vertical-align: middle;\n",
       "    }\n",
       "\n",
       "    .dataframe tbody tr th {\n",
       "        vertical-align: top;\n",
       "    }\n",
       "\n",
       "    .dataframe thead th {\n",
       "        text-align: right;\n",
       "    }\n",
       "</style>\n",
       "<table border=\"1\" class=\"dataframe\">\n",
       "  <thead>\n",
       "    <tr style=\"text-align: right;\">\n",
       "      <th></th>\n",
       "      <th>process_id</th>\n",
       "      <th>process_name</th>\n",
       "      <th>process_commandline</th>\n",
       "      <th>connection_id</th>\n",
       "      <th>source_ip</th>\n",
       "      <th>destination_ip</th>\n",
       "      <th>source_port</th>\n",
       "      <th>destination_port</th>\n",
       "    </tr>\n",
       "  </thead>\n",
       "  <tbody>\n",
       "    <tr>\n",
       "      <th>0</th>\n",
       "      <td>ABC</td>\n",
       "      <td>WindowsTerminal.exe</td>\n",
       "      <td>WindowsTerminal.exe</td>\n",
       "      <td>A</td>\n",
       "      <td>10.10.99.6</td>\n",
       "      <td>142.3.3.3</td>\n",
       "      <td>56444</td>\n",
       "      <td>22</td>\n",
       "    </tr>\n",
       "    <tr>\n",
       "      <th>1</th>\n",
       "      <td>ABC</td>\n",
       "      <td>WindowsTerminal.exe</td>\n",
       "      <td>WindowsTerminal.exe</td>\n",
       "      <td>C</td>\n",
       "      <td>10.10.99.6</td>\n",
       "      <td>142.3.4.5</td>\n",
       "      <td>32333</td>\n",
       "      <td>443</td>\n",
       "    </tr>\n",
       "    <tr>\n",
       "      <th>2</th>\n",
       "      <td>ABC</td>\n",
       "      <td>WindowsTerminal.exe</td>\n",
       "      <td>WindowsTerminal.exe</td>\n",
       "      <td>E</td>\n",
       "      <td>10.10.99.6</td>\n",
       "      <td>142.3.4.5</td>\n",
       "      <td>3425</td>\n",
       "      <td>80</td>\n",
       "    </tr>\n",
       "    <tr>\n",
       "      <th>3</th>\n",
       "      <td>DEF</td>\n",
       "      <td>Slackk.exe</td>\n",
       "      <td>Slackk.exe -e cmd.exe</td>\n",
       "      <td>B</td>\n",
       "      <td>10.10.99.11</td>\n",
       "      <td>142.3.3.3</td>\n",
       "      <td>12789</td>\n",
       "      <td>25</td>\n",
       "    </tr>\n",
       "    <tr>\n",
       "      <th>4</th>\n",
       "      <td>DEF</td>\n",
       "      <td>Slackk.exe</td>\n",
       "      <td>Slackk.exe -e cmd.exe</td>\n",
       "      <td>D</td>\n",
       "      <td>10.10.99.11</td>\n",
       "      <td>142.3.4.5</td>\n",
       "      <td>5645</td>\n",
       "      <td>4444</td>\n",
       "    </tr>\n",
       "    <tr>\n",
       "      <th>5</th>\n",
       "      <td>DEF</td>\n",
       "      <td>Slackk.exe</td>\n",
       "      <td>Slackk.exe -e cmd.exe</td>\n",
       "      <td>F</td>\n",
       "      <td>10.10.99.11</td>\n",
       "      <td>142.3.3.3</td>\n",
       "      <td>3423</td>\n",
       "      <td>443</td>\n",
       "    </tr>\n",
       "    <tr>\n",
       "      <th>6</th>\n",
       "      <td>DEF</td>\n",
       "      <td>Slackk.exe</td>\n",
       "      <td>Slackk.exe -exf nothing_suspicious_here.zip</td>\n",
       "      <td>B</td>\n",
       "      <td>10.10.99.11</td>\n",
       "      <td>142.3.3.3</td>\n",
       "      <td>12789</td>\n",
       "      <td>25</td>\n",
       "    </tr>\n",
       "    <tr>\n",
       "      <th>7</th>\n",
       "      <td>DEF</td>\n",
       "      <td>Slackk.exe</td>\n",
       "      <td>Slackk.exe -exf nothing_suspicious_here.zip</td>\n",
       "      <td>D</td>\n",
       "      <td>10.10.99.11</td>\n",
       "      <td>142.3.4.5</td>\n",
       "      <td>5645</td>\n",
       "      <td>4444</td>\n",
       "    </tr>\n",
       "    <tr>\n",
       "      <th>8</th>\n",
       "      <td>DEF</td>\n",
       "      <td>Slackk.exe</td>\n",
       "      <td>Slackk.exe -exf nothing_suspicious_here.zip</td>\n",
       "      <td>F</td>\n",
       "      <td>10.10.99.11</td>\n",
       "      <td>142.3.3.3</td>\n",
       "      <td>3423</td>\n",
       "      <td>443</td>\n",
       "    </tr>\n",
       "  </tbody>\n",
       "</table>\n",
       "</div>"
      ],
      "text/plain": [
       "  process_id         process_name  \\\n",
       "0        ABC  WindowsTerminal.exe   \n",
       "1        ABC  WindowsTerminal.exe   \n",
       "2        ABC  WindowsTerminal.exe   \n",
       "3        DEF           Slackk.exe   \n",
       "4        DEF           Slackk.exe   \n",
       "5        DEF           Slackk.exe   \n",
       "6        DEF           Slackk.exe   \n",
       "7        DEF           Slackk.exe   \n",
       "8        DEF           Slackk.exe   \n",
       "\n",
       "                           process_commandline connection_id    source_ip  \\\n",
       "0                          WindowsTerminal.exe             A   10.10.99.6   \n",
       "1                          WindowsTerminal.exe             C   10.10.99.6   \n",
       "2                          WindowsTerminal.exe             E   10.10.99.6   \n",
       "3                        Slackk.exe -e cmd.exe             B  10.10.99.11   \n",
       "4                        Slackk.exe -e cmd.exe             D  10.10.99.11   \n",
       "5                        Slackk.exe -e cmd.exe             F  10.10.99.11   \n",
       "6  Slackk.exe -exf nothing_suspicious_here.zip             B  10.10.99.11   \n",
       "7  Slackk.exe -exf nothing_suspicious_here.zip             D  10.10.99.11   \n",
       "8  Slackk.exe -exf nothing_suspicious_here.zip             F  10.10.99.11   \n",
       "\n",
       "  destination_ip  source_port  destination_port  \n",
       "0      142.3.3.3        56444                22  \n",
       "1      142.3.4.5        32333               443  \n",
       "2      142.3.4.5         3425                80  \n",
       "3      142.3.3.3        12789                25  \n",
       "4      142.3.4.5         5645              4444  \n",
       "5      142.3.3.3         3423               443  \n",
       "6      142.3.3.3        12789                25  \n",
       "7      142.3.4.5         5645              4444  \n",
       "8      142.3.3.3         3423               443  "
      ]
     },
     "execution_count": 64,
     "metadata": {},
     "output_type": "execute_result"
    }
   ],
   "source": [
    "merged_df = process_data_df.merge(right=network_connection_df, how=\"inner\", on=\"process_id\")\n",
    "merged_df"
   ]
  },
  {
   "cell_type": "code",
   "execution_count": 65,
   "metadata": {},
   "outputs": [
    {
     "data": {
      "text/html": [
       "<div>\n",
       "<style scoped>\n",
       "    .dataframe tbody tr th:only-of-type {\n",
       "        vertical-align: middle;\n",
       "    }\n",
       "\n",
       "    .dataframe tbody tr th {\n",
       "        vertical-align: top;\n",
       "    }\n",
       "\n",
       "    .dataframe thead th {\n",
       "        text-align: right;\n",
       "    }\n",
       "</style>\n",
       "<table border=\"1\" class=\"dataframe\">\n",
       "  <thead>\n",
       "    <tr style=\"text-align: right;\">\n",
       "      <th></th>\n",
       "      <th>process_id</th>\n",
       "      <th>process_name</th>\n",
       "      <th>process_commandline</th>\n",
       "      <th>connection_id</th>\n",
       "      <th>source</th>\n",
       "      <th>destination</th>\n",
       "    </tr>\n",
       "  </thead>\n",
       "  <tbody>\n",
       "    <tr>\n",
       "      <th>0</th>\n",
       "      <td>ABC</td>\n",
       "      <td>WindowsTerminal.exe</td>\n",
       "      <td>WindowsTerminal.exe</td>\n",
       "      <td>A</td>\n",
       "      <td>10.10.99.6:56444</td>\n",
       "      <td>142.3.3.3:22</td>\n",
       "    </tr>\n",
       "    <tr>\n",
       "      <th>1</th>\n",
       "      <td>ABC</td>\n",
       "      <td>WindowsTerminal.exe</td>\n",
       "      <td>WindowsTerminal.exe</td>\n",
       "      <td>C</td>\n",
       "      <td>10.10.99.6:32333</td>\n",
       "      <td>142.3.4.5:443</td>\n",
       "    </tr>\n",
       "    <tr>\n",
       "      <th>2</th>\n",
       "      <td>ABC</td>\n",
       "      <td>WindowsTerminal.exe</td>\n",
       "      <td>WindowsTerminal.exe</td>\n",
       "      <td>E</td>\n",
       "      <td>10.10.99.6:3425</td>\n",
       "      <td>142.3.4.5:80</td>\n",
       "    </tr>\n",
       "    <tr>\n",
       "      <th>3</th>\n",
       "      <td>DEF</td>\n",
       "      <td>Slackk.exe</td>\n",
       "      <td>Slackk.exe -e cmd.exe</td>\n",
       "      <td>B</td>\n",
       "      <td>10.10.99.11:12789</td>\n",
       "      <td>142.3.3.3:25</td>\n",
       "    </tr>\n",
       "    <tr>\n",
       "      <th>4</th>\n",
       "      <td>DEF</td>\n",
       "      <td>Slackk.exe</td>\n",
       "      <td>Slackk.exe -e cmd.exe</td>\n",
       "      <td>D</td>\n",
       "      <td>10.10.99.11:5645</td>\n",
       "      <td>142.3.4.5:4444</td>\n",
       "    </tr>\n",
       "    <tr>\n",
       "      <th>5</th>\n",
       "      <td>DEF</td>\n",
       "      <td>Slackk.exe</td>\n",
       "      <td>Slackk.exe -e cmd.exe</td>\n",
       "      <td>F</td>\n",
       "      <td>10.10.99.11:3423</td>\n",
       "      <td>142.3.3.3:443</td>\n",
       "    </tr>\n",
       "    <tr>\n",
       "      <th>6</th>\n",
       "      <td>DEF</td>\n",
       "      <td>Slackk.exe</td>\n",
       "      <td>Slackk.exe -exf nothing_suspicious_here.zip</td>\n",
       "      <td>B</td>\n",
       "      <td>10.10.99.11:12789</td>\n",
       "      <td>142.3.3.3:25</td>\n",
       "    </tr>\n",
       "    <tr>\n",
       "      <th>7</th>\n",
       "      <td>DEF</td>\n",
       "      <td>Slackk.exe</td>\n",
       "      <td>Slackk.exe -exf nothing_suspicious_here.zip</td>\n",
       "      <td>D</td>\n",
       "      <td>10.10.99.11:5645</td>\n",
       "      <td>142.3.4.5:4444</td>\n",
       "    </tr>\n",
       "    <tr>\n",
       "      <th>8</th>\n",
       "      <td>DEF</td>\n",
       "      <td>Slackk.exe</td>\n",
       "      <td>Slackk.exe -exf nothing_suspicious_here.zip</td>\n",
       "      <td>F</td>\n",
       "      <td>10.10.99.11:3423</td>\n",
       "      <td>142.3.3.3:443</td>\n",
       "    </tr>\n",
       "  </tbody>\n",
       "</table>\n",
       "</div>"
      ],
      "text/plain": [
       "  process_id         process_name  \\\n",
       "0        ABC  WindowsTerminal.exe   \n",
       "1        ABC  WindowsTerminal.exe   \n",
       "2        ABC  WindowsTerminal.exe   \n",
       "3        DEF           Slackk.exe   \n",
       "4        DEF           Slackk.exe   \n",
       "5        DEF           Slackk.exe   \n",
       "6        DEF           Slackk.exe   \n",
       "7        DEF           Slackk.exe   \n",
       "8        DEF           Slackk.exe   \n",
       "\n",
       "                           process_commandline connection_id  \\\n",
       "0                          WindowsTerminal.exe             A   \n",
       "1                          WindowsTerminal.exe             C   \n",
       "2                          WindowsTerminal.exe             E   \n",
       "3                        Slackk.exe -e cmd.exe             B   \n",
       "4                        Slackk.exe -e cmd.exe             D   \n",
       "5                        Slackk.exe -e cmd.exe             F   \n",
       "6  Slackk.exe -exf nothing_suspicious_here.zip             B   \n",
       "7  Slackk.exe -exf nothing_suspicious_here.zip             D   \n",
       "8  Slackk.exe -exf nothing_suspicious_here.zip             F   \n",
       "\n",
       "              source     destination  \n",
       "0   10.10.99.6:56444    142.3.3.3:22  \n",
       "1   10.10.99.6:32333   142.3.4.5:443  \n",
       "2    10.10.99.6:3425    142.3.4.5:80  \n",
       "3  10.10.99.11:12789    142.3.3.3:25  \n",
       "4   10.10.99.11:5645  142.3.4.5:4444  \n",
       "5   10.10.99.11:3423   142.3.3.3:443  \n",
       "6  10.10.99.11:12789    142.3.3.3:25  \n",
       "7   10.10.99.11:5645  142.3.4.5:4444  \n",
       "8   10.10.99.11:3423   142.3.3.3:443  "
      ]
     },
     "execution_count": 65,
     "metadata": {},
     "output_type": "execute_result"
    }
   ],
   "source": [
    "merged_df['source'] = merged_df['source_ip'] + \":\" + merged_df['source_port'].astype(str)\n",
    "merged_df['destination'] = merged_df['destination_ip'] + \":\" + merged_df['destination_port'].astype(str)\n",
    "merged_df = merged_df.drop(['source_ip', 'source_port', 'destination_ip', 'destination_port'], axis=1)\n",
    "merged_df"
   ]
  },
  {
   "cell_type": "code",
   "execution_count": 66,
   "metadata": {},
   "outputs": [
    {
     "data": {
      "text/html": [
       "<div>\n",
       "<style scoped>\n",
       "    .dataframe tbody tr th:only-of-type {\n",
       "        vertical-align: middle;\n",
       "    }\n",
       "\n",
       "    .dataframe tbody tr th {\n",
       "        vertical-align: top;\n",
       "    }\n",
       "\n",
       "    .dataframe thead th {\n",
       "        text-align: right;\n",
       "    }\n",
       "</style>\n",
       "<table border=\"1\" class=\"dataframe\">\n",
       "  <thead>\n",
       "    <tr style=\"text-align: right;\">\n",
       "      <th></th>\n",
       "      <th></th>\n",
       "      <th>process_commandlines</th>\n",
       "      <th>destinations</th>\n",
       "    </tr>\n",
       "    <tr>\n",
       "      <th>process_id</th>\n",
       "      <th>process_name</th>\n",
       "      <th></th>\n",
       "      <th></th>\n",
       "    </tr>\n",
       "  </thead>\n",
       "  <tbody>\n",
       "    <tr>\n",
       "      <th>ABC</th>\n",
       "      <th>WindowsTerminal.exe</th>\n",
       "      <td>WindowsTerminal.exe</td>\n",
       "      <td>142.3.3.3:22, 142.3.4.5:443, 142.3.4.5:80</td>\n",
       "    </tr>\n",
       "    <tr>\n",
       "      <th>DEF</th>\n",
       "      <th>Slackk.exe</th>\n",
       "      <td>Slackk.exe -e cmd.exe, Slackk.exe -exf nothing...</td>\n",
       "      <td>142.3.3.3:25, 142.3.4.5:4444, 142.3.3.3:443</td>\n",
       "    </tr>\n",
       "  </tbody>\n",
       "</table>\n",
       "</div>"
      ],
      "text/plain": [
       "                                                             process_commandlines  \\\n",
       "process_id process_name                                                             \n",
       "ABC        WindowsTerminal.exe                                WindowsTerminal.exe   \n",
       "DEF        Slackk.exe           Slackk.exe -e cmd.exe, Slackk.exe -exf nothing...   \n",
       "\n",
       "                                                               destinations  \n",
       "process_id process_name                                                      \n",
       "ABC        WindowsTerminal.exe    142.3.3.3:22, 142.3.4.5:443, 142.3.4.5:80  \n",
       "DEF        Slackk.exe           142.3.3.3:25, 142.3.4.5:4444, 142.3.3.3:443  "
      ]
     },
     "execution_count": 66,
     "metadata": {},
     "output_type": "execute_result"
    }
   ],
   "source": [
    "report_df = merged_df.groupby(['process_id', 'process_name']) \\\n",
    "         .agg(\n",
    "    process_commandlines=('process_commandline', lambda x: \", \".join(x.unique())),\n",
    "    destinations=('destination', lambda x: \", \".join(x.unique()))\n",
    "    )\n",
    "report_df"
   ]
  },
  {
   "cell_type": "markdown",
   "metadata": {},
   "source": [
    "### Reporting: Convert to JSON"
   ]
  },
  {
   "cell_type": "code",
   "execution_count": 67,
   "metadata": {},
   "outputs": [
    {
     "data": {
      "text/plain": [
       "{'process_commandlines': {\"('ABC', 'WindowsTerminal.exe')\": 'WindowsTerminal.exe',\n",
       "  \"('DEF', 'Slackk.exe')\": 'Slackk.exe -e cmd.exe, Slackk.exe -exf nothing_suspicious_here.zip'},\n",
       " 'destinations': {\"('ABC', 'WindowsTerminal.exe')\": '142.3.3.3:22, 142.3.4.5:443, 142.3.4.5:80',\n",
       "  \"('DEF', 'Slackk.exe')\": '142.3.3.3:25, 142.3.4.5:4444, 142.3.3.3:443'}}"
      ]
     },
     "execution_count": 67,
     "metadata": {},
     "output_type": "execute_result"
    }
   ],
   "source": [
    "import json\n",
    "json.loads(report_df.to_json())"
   ]
  },
  {
   "cell_type": "markdown",
   "metadata": {},
   "source": [
    "### Reporting: Convert to CSV"
   ]
  },
  {
   "cell_type": "code",
   "execution_count": 68,
   "metadata": {},
   "outputs": [],
   "source": [
    "report_df.to_csv(\"report.csv\")\n",
    "# report_df.to_excel(\"report.xlsx\")"
   ]
  },
  {
   "cell_type": "markdown",
   "metadata": {},
   "source": [
    "### Reporting: Convert to HTML"
   ]
  },
  {
   "cell_type": "code",
   "execution_count": 69,
   "metadata": {},
   "outputs": [],
   "source": [
    "report_df.to_html(\"report.html\")"
   ]
  }
 ],
 "metadata": {
  "kernelspec": {
   "display_name": "Python 3",
   "language": "python",
   "name": "python3"
  },
  "language_info": {
   "codemirror_mode": {
    "name": "ipython",
    "version": 3
   },
   "file_extension": ".py",
   "mimetype": "text/x-python",
   "name": "python",
   "nbconvert_exporter": "python",
   "pygments_lexer": "ipython3",
   "version": "3.8.6"
  }
 },
 "nbformat": 4,
 "nbformat_minor": 4
}
